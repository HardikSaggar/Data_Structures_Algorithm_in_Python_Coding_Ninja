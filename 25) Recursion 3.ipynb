{
 "cells": [
  {
   "cell_type": "markdown",
   "id": "73e5364f",
   "metadata": {},
   "source": [
    "#### Return Subsequences\n"
   ]
  },
  {
   "cell_type": "code",
   "execution_count": 4,
   "id": "000350bd",
   "metadata": {
    "scrolled": true
   },
   "outputs": [
    {
     "data": {
      "text/plain": [
       "['',\n",
       " 'd',\n",
       " 'c',\n",
       " 'cd',\n",
       " 'b',\n",
       " 'bd',\n",
       " 'bc',\n",
       " 'bcd',\n",
       " 'a',\n",
       " 'ad',\n",
       " 'ac',\n",
       " 'acd',\n",
       " 'ab',\n",
       " 'abd',\n",
       " 'abc',\n",
       " 'abcd']"
      ]
     },
     "execution_count": 4,
     "metadata": {},
     "output_type": "execute_result"
    }
   ],
   "source": [
    "def subsequences(string):\n",
    "\n",
    "    if len(string) == 0:\n",
    "        output = [\"\"]\n",
    "        return output\n",
    "\n",
    "    smallOutput = subsequences(string[1:])\n",
    "    output = []\n",
    "    for s in smallOutput:\n",
    "        output.append(s)\n",
    "        output.append(string[0] + s)\n",
    "    return output\n",
    "\n",
    "\n",
    "string = input()\n",
    "ans = subsequences(string)\n",
    "for ele in ans:\n",
    "    print(ele)\n"
   ]
  },
  {
   "cell_type": "markdown",
   "id": "571f19e3",
   "metadata": {},
   "source": [
    "#### Return Keypad"
   ]
  },
  {
   "cell_type": "code",
   "execution_count": 8,
   "id": "262c1279",
   "metadata": {},
   "outputs": [
    {
     "data": {
      "text/plain": [
       "['adp',\n",
       " 'adq',\n",
       " 'adr',\n",
       " 'ads',\n",
       " 'aep',\n",
       " 'aeq',\n",
       " 'aer',\n",
       " 'aes',\n",
       " 'afp',\n",
       " 'afq',\n",
       " 'afr',\n",
       " 'afs',\n",
       " 'bdp',\n",
       " 'bdq',\n",
       " 'bdr',\n",
       " 'bds',\n",
       " 'bep',\n",
       " 'beq',\n",
       " 'ber',\n",
       " 'bes',\n",
       " 'bfp',\n",
       " 'bfq',\n",
       " 'bfr',\n",
       " 'bfs',\n",
       " 'cdp',\n",
       " 'cdq',\n",
       " 'cdr',\n",
       " 'cds',\n",
       " 'cep',\n",
       " 'ceq',\n",
       " 'cer',\n",
       " 'ces',\n",
       " 'cfp',\n",
       " 'cfq',\n",
       " 'cfr',\n",
       " 'cfs']"
      ]
     },
     "execution_count": 8,
     "metadata": {},
     "output_type": "execute_result"
    }
   ],
   "source": [
    "options = [\"\", \"\", \"abc\", \"def\", \"ghi\", \"jkl\", \"mno\", \"pqrs\", \"tuv\", \"wxyz\"]\n",
    "\n",
    "\n",
    "def keypad(n):\n",
    "    if n == 0:\n",
    "        output = [\"\"]\n",
    "        return output\n",
    "    smallOutput = keypad(n//10)\n",
    "    currDArray = options[n % 10]\n",
    "    output = []\n",
    "    for d in currDArray:\n",
    "        for s in smallOutput:\n",
    "            output.append(s+d)\n",
    "    return output\n",
    "\n",
    "\n",
    "n = int(input())\n",
    "ans = keypad(n)\n",
    "for s in ans:\n",
    "    print(s)\n"
   ]
  },
  {
   "cell_type": "markdown",
   "id": "d00e0bd2",
   "metadata": {},
   "source": [
    "#### Print Subsequences"
   ]
  },
  {
   "cell_type": "code",
   "execution_count": 9,
   "id": "491a06fc",
   "metadata": {},
   "outputs": [
    {
     "name": "stdout",
     "output_type": "stream",
     "text": [
      "120\n"
     ]
    }
   ],
   "source": [
    "def printSub(s, path):\n",
    "    if len(s) == 0:\n",
    "        print(path)\n",
    "        return\n",
    "\n",
    "    printSub(s[1:], path)\n",
    "    printSub(s[1:], path+s[0])\n",
    "\n",
    "\n",
    "s = input().strip()\n",
    "printSub(s, '')\n"
   ]
  },
  {
   "cell_type": "markdown",
   "id": "2c293c93",
   "metadata": {},
   "source": [
    "#### Print Keypad"
   ]
  },
  {
   "cell_type": "code",
   "execution_count": 15,
   "id": "0925613a",
   "metadata": {},
   "outputs": [
    {
     "name": "stdout",
     "output_type": "stream",
     "text": [
      "-100\n"
     ]
    }
   ],
   "source": [
    "def printKeypadHelper(num, str):\n",
    "    options = [\"\", \"\", \"abc\", \"def\", \"ghi\", \"jkl\", \"mno\", \"pqrs\", \"tuv\", \"wxyz\"]\n",
    "    if (num == 0):\n",
    "        print(str)\n",
    "        return\n",
    "\n",
    "    small = num//10\n",
    "    remainder = num % 10\n",
    "    optionslen = len(options[remainder])\n",
    "    if(optionslen == 0):\n",
    "        printKeypadHelper(small, str)\n",
    "        return\n",
    "\n",
    "    for i in range(0, optionslen):\n",
    "        printKeypadHelper(small, options[remainder][i] + str)\n",
    "\n",
    "\n",
    "def printKeypad(num):\n",
    "    printKeypadHelper(num, \"\")\n",
    "\n",
    "\n",
    "n = int(input())\n",
    "printKeypad(n)\n"
   ]
  }
 ],
 "metadata": {
  "kernelspec": {
   "display_name": "Python 3 (ipykernel)",
   "language": "python",
   "name": "python3"
  },
  "language_info": {
   "codemirror_mode": {
    "name": "ipython",
    "version": 3
   },
   "file_extension": ".py",
   "mimetype": "text/x-python",
   "name": "python",
   "nbconvert_exporter": "python",
   "pygments_lexer": "ipython3",
   "version": "3.9.13"
  }
 },
 "nbformat": 4,
 "nbformat_minor": 5
}
