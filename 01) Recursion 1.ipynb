{
 "cells": [
  {
   "cell_type": "markdown",
   "id": "b41fd203",
   "metadata": {},
   "source": [
    "#### Factorial"
   ]
  },
  {
   "cell_type": "code",
   "execution_count": null,
   "id": "56af67f1",
   "metadata": {},
   "outputs": [],
   "source": [
    "def fact(n):\n",
    "    if n == 0:\n",
    "        return 1\n",
    "    return n*fact(n-1)"
   ]
  },
  {
   "cell_type": "code",
   "execution_count": 2,
   "id": "6af55e85",
   "metadata": {},
   "outputs": [
    {
     "name": "stdout",
     "output_type": "stream",
     "text": [
      "5\n"
     ]
    },
    {
     "data": {
      "text/plain": [
       "120"
      ]
     },
     "execution_count": 2,
     "metadata": {},
     "output_type": "execute_result"
    }
   ],
   "source": [
    "n = int(input())\n",
    "fact(n)"
   ]
  },
  {
   "cell_type": "markdown",
   "id": "2fb46db5",
   "metadata": {},
   "source": [
    "#### Sum"
   ]
  },
  {
   "cell_type": "code",
   "execution_count": null,
   "id": "c883ab73",
   "metadata": {},
   "outputs": [],
   "source": [
    "def sum_n(n):\n",
    "    if n == 0:\n",
    "        return 0\n",
    "    smallop = sum_n(n-1)\n",
    "    output = smallop+n\n",
    "    return output"
   ]
  },
  {
   "cell_type": "code",
   "execution_count": 5,
   "id": "9931542e",
   "metadata": {},
   "outputs": [
    {
     "name": "stdout",
     "output_type": "stream",
     "text": [
      "5\n",
      "120\n",
      "15\n"
     ]
    }
   ],
   "source": [
    "n = int(input())\n",
    "print(fact(n))\n",
    "print(sum_n(n))"
   ]
  },
  {
   "cell_type": "markdown",
   "id": "4644603d",
   "metadata": {},
   "source": [
    "#### Exponential"
   ]
  },
  {
   "cell_type": "code",
   "execution_count": 27,
   "id": "c101d9c1",
   "metadata": {},
   "outputs": [],
   "source": [
    "def power(a,b):\n",
    "    if b == 0:\n",
    "        return 1\n",
    "    op = power(a,b-1)\n",
    "    output = op*a\n",
    "    return output"
   ]
  },
  {
   "cell_type": "code",
   "execution_count": 29,
   "id": "793d1902",
   "metadata": {},
   "outputs": [
    {
     "name": "stdout",
     "output_type": "stream",
     "text": [
      "1 2\n",
      "1\n"
     ]
    }
   ],
   "source": [
    "a,b = input().split()\n",
    "a = int(a)\n",
    "b = int(b)\n",
    "print(power(a,b))"
   ]
  },
  {
   "cell_type": "markdown",
   "id": "47dbc6bf",
   "metadata": {},
   "source": [
    "#### Print 1 to N"
   ]
  },
  {
   "cell_type": "code",
   "execution_count": 35,
   "id": "14ecfbaf",
   "metadata": {},
   "outputs": [],
   "source": [
    "def print_1_to_n(n):\n",
    "    if n == 0:\n",
    "        return 0\n",
    "    print_1_to_n(n-1)\n",
    "    print(n)\n",
    "    "
   ]
  },
  {
   "cell_type": "code",
   "execution_count": 36,
   "id": "915e483f",
   "metadata": {},
   "outputs": [
    {
     "name": "stdout",
     "output_type": "stream",
     "text": [
      "1\n",
      "2\n",
      "3\n",
      "4\n",
      "5\n",
      "6\n",
      "7\n",
      "8\n",
      "9\n",
      "10\n"
     ]
    }
   ],
   "source": [
    "print_1_to_n(10)"
   ]
  },
  {
   "cell_type": "markdown",
   "id": "4ca6f1ec",
   "metadata": {},
   "source": [
    "#### Print N to 1"
   ]
  },
  {
   "cell_type": "code",
   "execution_count": 39,
   "id": "78a8738b",
   "metadata": {},
   "outputs": [],
   "source": [
    "def print_n_to_1(n):\n",
    "    if n == 0:\n",
    "        return 0\n",
    "    print(n)\n",
    "    print_1_to_n(n-1)\n"
   ]
  },
  {
   "cell_type": "code",
   "execution_count": 45,
   "id": "f17e219b",
   "metadata": {},
   "outputs": [
    {
     "name": "stdout",
     "output_type": "stream",
     "text": [
      "6\n",
      "5\n",
      "4\n",
      "3\n",
      "2\n",
      "1\n"
     ]
    }
   ],
   "source": [
    "print_n_to_1(6)"
   ]
  },
  {
   "cell_type": "markdown",
   "id": "5f02da98",
   "metadata": {},
   "source": [
    "#### Print with differnce of two"
   ]
  },
  {
   "cell_type": "code",
   "execution_count": 2,
   "id": "ecdb979a",
   "metadata": {},
   "outputs": [
    {
     "name": "stdout",
     "output_type": "stream",
     "text": [
      "Enter:-4\n",
      "4 2 0 "
     ]
    }
   ],
   "source": [
    "def print_num(n):\n",
    "    if(n<0):\n",
    "        return\n",
    "    print(n,end=' ')\n",
    "    print_num(n-2)\n",
    "num = int(input(\"Enter:-\"))\n",
    "print_num(num)\n",
    "    "
   ]
  },
  {
   "cell_type": "markdown",
   "id": "b48e0e86",
   "metadata": {},
   "source": [
    "#### Fibonacci"
   ]
  },
  {
   "cell_type": "code",
   "execution_count": 9,
   "id": "55b762f6",
   "metadata": {},
   "outputs": [
    {
     "name": "stdout",
     "output_type": "stream",
     "text": [
      "0 0 0 0 0 0 0 0 3 5 5 8 8 8 3 13 13 13 13 3 5 5 21 21 21 21 21 3 5 5 8 8 8 3 34 34 34 34 34 34 3 5 5 8 8 8 3 13 13 13 13 3 5 5 "
     ]
    },
    {
     "data": {
      "text/plain": [
       "55"
      ]
     },
     "execution_count": 9,
     "metadata": {},
     "output_type": "execute_result"
    }
   ],
   "source": [
    "output = 0\n",
    "def fib(n):\n",
    "    if n == 1 or n == 2 :\n",
    "        return 1\n",
    "    global output\n",
    "    print(output,end=' ')\n",
    "    fib_n1 = fib(n-1)\n",
    "    fib_n2 = fib(n-2)\n",
    "    output = fib_n1+fib_n2\n",
    "    return output\n",
    "fib(10)\n",
    "    "
   ]
  },
  {
   "cell_type": "code",
   "execution_count": 5,
   "id": "2f900bc7",
   "metadata": {},
   "outputs": [
    {
     "name": "stdout",
     "output_type": "stream",
     "text": [
      "64\n"
     ]
    }
   ],
   "source": [
    "def fun(n):\n",
    "    if(n==4):\n",
    "        return n\n",
    "    else:\n",
    "        return 2*fun(n+1)\n",
    "    \n",
    "print(fun(0))"
   ]
  },
  {
   "cell_type": "code",
   "execution_count": 13,
   "id": "f90c28d0",
   "metadata": {},
   "outputs": [
    {
     "name": "stdout",
     "output_type": "stream",
     "text": [
      "402387260077093773543702433923003985719374864210714632543799910429938512398629020592044208486969404800479988610197196058631666872994808558901323829669944590997424504087073759918823627727188732519779505950995276120874975462497043601418278094646496291056393887437886487337119181045825783647849977012476632889835955735432513185323958463075557409114262417474349347553428646576611667797396668820291207379143853719588249808126867838374559731746136085379534524221586593201928090878297308431392844403281231558611036976801357304216168747609675871348312025478589320767169132448426236131412508780208000261683151027341827977704784635868170164365024153691398281264810213092761244896359928705114964975419909342221566832572080821333186116811553615836546984046708975602900950537616475847728421889679646244945160765353408198901385442487984959953319101723355556602139450399736280750137837615307127761926849034352625200015888535147331611702103968175921510907788019393178114194545257223865541461062892187960223838971476088506276862967146674697562911234082439208160153780889893964518263243671616762179168909779911903754031274622289988005195444414282012187361745992642956581746628302955570299024324153181617210465832036786906117260158783520751516284225540265170483304226143974286933061690897968482590125458327168226458066526769958652682272807075781391858178889652208164348344825993266043367660176999612831860788386150279465955131156552036093988180612138558600301435694527224206344631797460594682573103790084024432438465657245014402821885252470935190620929023136493273497565513958720559654228749774011413346962715422845862377387538230483865688976461927383814900140767310446640259899490222221765904339901886018566526485061799702356193897017860040811889729918311021171229845901641921068884387121855646124960798722908519296819372388642614839657382291123125024186649353143970137428531926649875337218940694281434118520158014123344828015051399694290153483077644569099073152433278288269864602789864321139083506217095002597389863554277196742822248757586765752344220207573630569498825087968928162753848863396909959826280956121450994871701244516461260379029309120889086942028510640182154399457156805941872748998094254742173582401063677404595741785160829230135358081840096996372524230560855903700624271243416909004153690105933983835777939410970027753472000000000000000000000000000000000000000000000000000000000000000000000000000000000000000000000000000000000000000000000000000000000000000000000000000000000000000000000000000000000000000000000000000000000000000000000000000000000000000000000000000000000\n"
     ]
    }
   ],
   "source": [
    "import sys\n",
    "sys.setrecursionlimit(100100)\n",
    "\n",
    "def fun(n):\n",
    "    if n == 1:\n",
    "        return 1\n",
    "    sm = fun(n-1)\n",
    "    return sm*n\n",
    "    \n",
    "print(fun(1000))"
   ]
  },
  {
   "cell_type": "markdown",
   "id": "e39815bc",
   "metadata": {},
   "source": [
    "#### Check list sorted 1"
   ]
  },
  {
   "cell_type": "code",
   "execution_count": null,
   "id": "f38a4b0f",
   "metadata": {},
   "outputs": [],
   "source": [
    "def isSorted(a):\n",
    "    l = len(a)\n",
    "    if l == 0 or l == 1:\n",
    "        return True\n",
    "    if a[0]>a[1]:\n",
    "        return False\n",
    "\n",
    "    smallerList = a[1:]\n",
    "    isSmallerListSorted = isSorted(smallerList)\n",
    "    if isSmallerListSorted:\n",
    "        return True\n",
    "    else:\n",
    "        return False\n",
    "a = [1,2,3,9,4,5]\n",
    "print(isSorted(a)) "
   ]
  },
  {
   "cell_type": "markdown",
   "id": "519c6ecd",
   "metadata": {},
   "source": [
    "#### Array Sum"
   ]
  },
  {
   "cell_type": "code",
   "execution_count": 15,
   "id": "016c2ebe",
   "metadata": {},
   "outputs": [
    {
     "name": "stdout",
     "output_type": "stream",
     "text": [
      "3\n",
      "1 2 3\n",
      "6\n"
     ]
    }
   ],
   "source": [
    "def sumArray(arr,N):\n",
    "    if N<=0:\n",
    "        return 0\n",
    "    else:\n",
    "        return sumArray(arr,N-1)+arr[N-1]\n",
    "# Main\n",
    "from sys import setrecursionlimit\n",
    "setrecursionlimit(11000)\n",
    "n=int(input())\n",
    "arr=list(int(i) for i in input().strip().split(' '))\n",
    "N = len(arr)\n",
    "print(sumArray(arr,N))"
   ]
  },
  {
   "cell_type": "markdown",
   "id": "22f36f57",
   "metadata": {},
   "source": [
    "#### Check Array "
   ]
  },
  {
   "cell_type": "code",
   "execution_count": 4,
   "id": "b2f88604",
   "metadata": {},
   "outputs": [
    {
     "name": "stdout",
     "output_type": "stream",
     "text": [
      "3\n",
      "1 4 9\n",
      "9\n",
      "true\n"
     ]
    }
   ],
   "source": [
    "def checkNum(arr,x, N):\n",
    "    if N<=0:\n",
    "        return False\n",
    "    elif x == arr[0]:\n",
    "        return True\n",
    "    else:\n",
    "        return checkNum(arr[1:],x,N-1)\n",
    "\n",
    "# Main\n",
    "from sys import setrecursionlimit\n",
    "setrecursionlimit(11000)\n",
    "n=int(input())\n",
    "arr=list(int(i) for i in input().strip().split(' '))\n",
    "N = len(arr)\n",
    "x = int(input())\n",
    "if checkNum(arr,x,N):\n",
    "    print('true')\n",
    "else:\n",
    "    print('false')\n"
   ]
  },
  {
   "cell_type": "markdown",
   "id": "5ed1e4ae",
   "metadata": {},
   "source": [
    "#### Check array is Sorted"
   ]
  },
  {
   "cell_type": "code",
   "execution_count": 9,
   "id": "bb18f237",
   "metadata": {},
   "outputs": [
    {
     "data": {
      "text/plain": [
       "False"
      ]
     },
     "execution_count": 9,
     "metadata": {},
     "output_type": "execute_result"
    }
   ],
   "source": [
    "def isSortedBetter(arr,si):\n",
    "    l = len(arr)\n",
    "    if si == l or si == l-1:\n",
    "        return True\n",
    "    if arr[si]>arr[si+1]:\n",
    "        return False\n",
    "    isSmallerPartSorted = isSortedBetter(arr,si+1)\n",
    "    return isSmallerPartSorted\n",
    "arr = [1,2,3,4,5,6,10,7,8]\n",
    "isSortedBetter(arr,0)"
   ]
  },
  {
   "cell_type": "markdown",
   "id": "ae1f780f",
   "metadata": {},
   "source": [
    "#### Find X in First Index"
   ]
  },
  {
   "cell_type": "code",
   "execution_count": 24,
   "id": "049b5a6c",
   "metadata": {},
   "outputs": [
    {
     "name": "stdout",
     "output_type": "stream",
     "text": [
      "5\n",
      "3 5 3 2 8\n",
      "8\n",
      "4\n"
     ]
    }
   ],
   "source": [
    "def firstIndexBetter(arr, x,si):\n",
    "\n",
    "    l = len(arr)\n",
    "    if si == l:\n",
    "    \treturn -1\n",
    "    if x == arr[si]:\n",
    "    \treturn si\n",
    "    smallerListOutput = firstIndexBetter(arr,x,si+1)\n",
    "    return smallerListOutput\n",
    "# Main\n",
    "from sys import setrecursionlimit\n",
    "setrecursionlimit(11000)\n",
    "n=int(input())\n",
    "arr=list(int(i) for i in input().strip().split(' '))\n",
    "x=int(input())\n",
    "print(firstIndexBetter(arr, x,0))"
   ]
  },
  {
   "cell_type": "code",
   "execution_count": 21,
   "id": "aba178f6",
   "metadata": {
    "scrolled": true
   },
   "outputs": [
    {
     "name": "stdout",
     "output_type": "stream",
     "text": [
      "6\n"
     ]
    }
   ],
   "source": [
    "def firstIndex(a,x):\n",
    "    l = len(a)\n",
    "    if l == 0:\n",
    "        return -1\n",
    "    if a[0]==x:\n",
    "        return 0\n",
    "    smallerList = a[1:]\n",
    "    smallerListOutput = firstIndex(smallerList,x)\n",
    "    if smallerListOutput == -1:\n",
    "        return -1\n",
    "    else:\n",
    "        return smallerListOutput+1\n",
    "\n",
    "a = [1,2,3,4,3,2,5]\n",
    "x = 5\n",
    "print(firstIndex(a,x))"
   ]
  },
  {
   "cell_type": "code",
   "execution_count": 9,
   "id": "13501d8f",
   "metadata": {
    "scrolled": true
   },
   "outputs": [
    {
     "name": "stdout",
     "output_type": "stream",
     "text": [
      "4\n",
      "1 4 1 4\n",
      "4\n",
      "3\n"
     ]
    }
   ],
   "source": [
    "def lastIndex(arr, x,si):\n",
    "    l = len(arr)\n",
    "    if si == l:\n",
    "    \treturn -1\n",
    "    \n",
    "    smallerListOutput = lastIndex(arr,x,si+1)\n",
    "    if smallerListOutput != -1:\n",
    "        return smallerListOutput\n",
    "    else:\n",
    "        if arr[si] == x:\n",
    "            return si\n",
    "        else:\n",
    "            return -1\n",
    "\n",
    "# Main\n",
    "from sys import setrecursionlimit\n",
    "setrecursionlimit(11000)\n",
    "n = int(input())\n",
    "arr = list(int(i) for i in input().strip().split(' '))\n",
    "x = int(input())\n",
    "print(lastIndex(arr, x,0))"
   ]
  },
  {
   "cell_type": "markdown",
   "id": "1a14e729",
   "metadata": {},
   "source": [
    "## Assignmnet "
   ]
  },
  {
   "cell_type": "markdown",
   "id": "43d78586",
   "metadata": {},
   "source": [
    "#### Power of A Number"
   ]
  },
  {
   "cell_type": "code",
   "execution_count": null,
   "id": "16ea116d",
   "metadata": {},
   "outputs": [],
   "source": [
    "def power(a,b):\n",
    "    if b == 0:\n",
    "        return 1\n",
    "    op = power(a,b-1)\n",
    "    output = a*op\n",
    "    return output\n",
    "\n",
    "a, b = input().split()\n",
    "a = int(a)\n",
    "b = int(b)\n",
    "print(power(a,b))\n"
   ]
  },
  {
   "cell_type": "markdown",
   "id": "e3a14a88",
   "metadata": {},
   "source": [
    "#### Sum of Array"
   ]
  },
  {
   "cell_type": "code",
   "execution_count": null,
   "id": "1371de47",
   "metadata": {},
   "outputs": [],
   "source": [
    "def sumArray(arr,N):\n",
    "    if N<=0:\n",
    "        return 0\n",
    "    else:\n",
    "        return sumArray(arr,N-1)+arr[N-1]\n",
    "# Main\n",
    "from sys import setrecursionlimit\n",
    "setrecursionlimit(11000)\n",
    "n=int(input())\n",
    "arr=list(int(i) for i in input().strip().split(' '))\n",
    "N = len(arr)\n",
    "print(sumArray(arr,N))\n"
   ]
  },
  {
   "cell_type": "markdown",
   "id": "77a5755a",
   "metadata": {},
   "source": [
    "#### Check Number in Array"
   ]
  },
  {
   "cell_type": "code",
   "execution_count": null,
   "id": "2e1c3f33",
   "metadata": {},
   "outputs": [],
   "source": [
    "def checkNum(arr,x, N):\n",
    "    if N<=0:\n",
    "        return False\n",
    "    elif x == arr[0]:\n",
    "        return True\n",
    "    else:\n",
    "        return checkNum(arr[1:],x,N-1)\n",
    " \n",
    "  \n",
    "# Main\n",
    "from sys import setrecursionlimit\n",
    "setrecursionlimit(11000)\n",
    "n=int(input())\n",
    "arr=list(int(i) for i in input().strip().split(' '))\n",
    "N = len(arr)\n",
    "x = int(input())\n",
    "if checkNum(arr,x,N):\n",
    "    print('true')\n",
    "else:\n",
    "    print('false')\n"
   ]
  },
  {
   "cell_type": "markdown",
   "id": "2e262987",
   "metadata": {},
   "source": [
    "#### First Index of Number"
   ]
  },
  {
   "cell_type": "code",
   "execution_count": null,
   "id": "871b24d2",
   "metadata": {},
   "outputs": [],
   "source": [
    "def firstIndex(arr, x,si):\n",
    "\n",
    "    l = len(arr)\n",
    "    if l<=0:\n",
    "    \treturn -1\n",
    "    if x == arr[0]:\n",
    "    \treturn si\n",
    "    else:\n",
    "    \treturn firstIndex(arr[1:],x,si+1)\n",
    "# Main\n",
    "from sys import setrecursionlimit\n",
    "setrecursionlimit(11000)\n",
    "n=int(input())\n",
    "arr=list(int(i) for i in input().strip().split(' '))\n",
    "x=int(input())\n",
    "print(firstIndex(arr, x,0))\n"
   ]
  },
  {
   "cell_type": "markdown",
   "id": "7cb538bf",
   "metadata": {},
   "source": [
    "#### Last Index of Number"
   ]
  },
  {
   "cell_type": "code",
   "execution_count": null,
   "id": "11ea1de5",
   "metadata": {},
   "outputs": [],
   "source": [
    "from sys import setrecursionlimit\n",
    "\n",
    "\n",
    "def lastIndex(arr, x):\n",
    "    l = len(arr)\n",
    "    if l == 0:\n",
    "    \treturn -1\n",
    "\n",
    "    smallerList = arr[1:]\n",
    "    smallerListOutput = lastIndex(smallerList, x)\n",
    "    if smallerListOutput != -1:\n",
    "        return smallerListOutput+1\n",
    "    else:\n",
    "        if arr[0] == x:\n",
    "            return 0\n",
    "        else:\n",
    "            return -1\n",
    "\n",
    "\n",
    "# Main\n",
    "setrecursionlimit(11000)\n",
    "n = int(input())\n",
    "arr = list(int(i) for i in input().strip().split(' '))\n",
    "x = int(input())\n",
    "print(lastIndex(arr, x))\n"
   ]
  }
 ],
 "metadata": {
  "kernelspec": {
   "display_name": "Python 3 (ipykernel)",
   "language": "python",
   "name": "python3"
  },
  "language_info": {
   "codemirror_mode": {
    "name": "ipython",
    "version": 3
   },
   "file_extension": ".py",
   "mimetype": "text/x-python",
   "name": "python",
   "nbconvert_exporter": "python",
   "pygments_lexer": "ipython3",
   "version": "3.9.13"
  }
 },
 "nbformat": 4,
 "nbformat_minor": 5
}
