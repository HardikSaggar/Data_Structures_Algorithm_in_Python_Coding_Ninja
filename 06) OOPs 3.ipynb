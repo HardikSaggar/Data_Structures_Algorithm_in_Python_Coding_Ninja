{
 "cells": [
  {
   "cell_type": "markdown",
   "id": "4415e9cc",
   "metadata": {},
   "source": [
    "## Abstraction"
   ]
  },
  {
   "cell_type": "code",
   "execution_count": 11,
   "id": "172139d9",
   "metadata": {},
   "outputs": [],
   "source": [
    "from abc import ABC,abstractmethod"
   ]
  },
  {
   "cell_type": "code",
   "execution_count": 15,
   "id": "2dcd2848",
   "metadata": {},
   "outputs": [],
   "source": [
    "class Vehicle(ABC):\n",
    "    \n",
    "    @abstractmethod\n",
    "    def get_value(self):\n",
    "        pass\n",
    "    \n",
    "class Car(Vehicle):\n",
    "    def __init__(self,make,model,fare):\n",
    "        self.make = make\n",
    "        self.model = model\n",
    "        self.fare = fare\n",
    "    \n",
    "    def get_value(self):\n",
    "        return 1000*self.fare"
   ]
  },
  {
   "cell_type": "code",
   "execution_count": 18,
   "id": "cb50b365",
   "metadata": {},
   "outputs": [
    {
     "data": {
      "text/plain": [
       "40000"
      ]
     },
     "execution_count": 18,
     "metadata": {},
     "output_type": "execute_result"
    }
   ],
   "source": [
    "myobj = Car('Tesla',2019,40)\n",
    "myobj.get_value()"
   ]
  },
  {
   "cell_type": "code",
   "execution_count": 21,
   "id": "6bedc1b7",
   "metadata": {},
   "outputs": [],
   "source": [
    "class TextReaderAbstract(ABC):\n",
    "    def __init__(self,path,filename):\n",
    "        self.path = path\n",
    "        self.filename = filename\n",
    "        \n",
    "        @abstractmethod               #This is just an interface\n",
    "        def get_path(self):\n",
    "            pass\n",
    "        \n",
    "        @abstractmethod\n",
    "        def get_filename(self):\n",
    "            pass\n",
    "        "
   ]
  },
  {
   "cell_type": "code",
   "execution_count": 22,
   "id": "d08af0fc",
   "metadata": {},
   "outputs": [],
   "source": [
    "class TextReader(TextReaderAbstract):\n",
    "    \n",
    "    def get_path(self):\n",
    "        return self.path\n",
    "    \n",
    "    def file_name(self):\n",
    "        return self.filename\n",
    "    "
   ]
  },
  {
   "cell_type": "code",
   "execution_count": 26,
   "id": "0359ff98",
   "metadata": {},
   "outputs": [
    {
     "data": {
      "text/plain": [
       "'/user/download'"
      ]
     },
     "execution_count": 26,
     "metadata": {},
     "output_type": "execute_result"
    }
   ],
   "source": [
    "myobj = TextReader(\"/user/download\",\"sample.txt\")\n",
    "myobj.get_path()"
   ]
  },
  {
   "cell_type": "code",
   "execution_count": 27,
   "id": "f3efd14f",
   "metadata": {},
   "outputs": [],
   "source": [
    "class Bank(ABC):\n",
    "    \n",
    "        @abstractmethod\n",
    "        def get_interest(self):\n",
    "            pass"
   ]
  },
  {
   "cell_type": "code",
   "execution_count": 28,
   "id": "a98f6fee",
   "metadata": {},
   "outputs": [],
   "source": [
    "class HDFC(Bank):\n",
    "    \n",
    "    def get_interest(self):\n",
    "        return 7.2"
   ]
  },
  {
   "cell_type": "code",
   "execution_count": 29,
   "id": "f7f1d741",
   "metadata": {},
   "outputs": [],
   "source": [
    "myobj = HDFC()"
   ]
  },
  {
   "cell_type": "code",
   "execution_count": 30,
   "id": "dcb4b293",
   "metadata": {},
   "outputs": [
    {
     "data": {
      "text/plain": [
       "7.2"
      ]
     },
     "execution_count": 30,
     "metadata": {},
     "output_type": "execute_result"
    }
   ],
   "source": [
    "myobj.get_interest(-)"
   ]
  }
 ],
 "metadata": {
  "kernelspec": {
   "display_name": "Python 3 (ipykernel)",
   "language": "python",
   "name": "python3"
  },
  "language_info": {
   "codemirror_mode": {
    "name": "ipython",
    "version": 3
   },
   "file_extension": ".py",
   "mimetype": "text/x-python",
   "name": "python",
   "nbconvert_exporter": "python",
   "pygments_lexer": "ipython3",
   "version": "3.9.12"
  }
 },
 "nbformat": 4,
 "nbformat_minor": 5
}
