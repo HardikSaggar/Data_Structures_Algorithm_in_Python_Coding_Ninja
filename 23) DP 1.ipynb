{
 "cells": [
  {
   "cell_type": "markdown",
   "id": "fbd41f8b",
   "metadata": {},
   "source": [
    "## Dynamic Programing"
   ]
  },
  {
   "cell_type": "code",
   "execution_count": 8,
   "id": "81b74ca7",
   "metadata": {},
   "outputs": [
    {
     "name": "stdout",
     "output_type": "stream",
     "text": [
      "7\n",
      "13\n"
     ]
    }
   ],
   "source": [
    "def fibb(n,dp):\n",
    "    if n == 0 or n == 1:\n",
    "        return n\n",
    "    \n",
    "    if dp[n-1] == -1:\n",
    "        ans1 = fibb(n-1,dp)\n",
    "        dp[n-1] = ans1\n",
    "    else:\n",
    "        ans1 = dp[n-1]\n",
    "        \n",
    "    if dp[n-2] == -1:\n",
    "        ans2 = fibb(n-2,dp)\n",
    "        dp[n-2] = ans2\n",
    "    else:\n",
    "        ans2 = dp[n-2]\n",
    "    \n",
    "    myAns = ans1+ans2\n",
    "    return myAns\n",
    "\n",
    "def fibbI(n):\n",
    "    dp = [0 for i in range(n+1)]\n",
    "    dp[0] = 0 \n",
    "    dp[1] = 1\n",
    "    i = 2\n",
    "    while i<=n:\n",
    "        dp[i] = dp[i-1]+dp[i-2]\n",
    "        i+=1\n",
    "    return dp[n]\n",
    "\n",
    "n = int(input())\n",
    "ans = fibbI(n)\n",
    "# dp = [-1 for i in range(n+1)]\n",
    "# ans = fibb(n,dp)\n",
    "print(ans)"
   ]
  },
  {
   "cell_type": "markdown",
   "id": "c484b83c",
   "metadata": {},
   "source": [
    "#### Min Steps to 1"
   ]
  },
  {
   "cell_type": "code",
   "execution_count": 21,
   "id": "5860efe9",
   "metadata": {},
   "outputs": [
    {
     "name": "stdout",
     "output_type": "stream",
     "text": [
      "20\n",
      "4\n"
     ]
    }
   ],
   "source": [
    "from sys import stdin\n",
    "from sys import maxsize as MAX_VALUE\n",
    "\n",
    "\n",
    "def countMinStepsToOne(n):\n",
    "    if n == 1:\n",
    "        return 0\n",
    "\n",
    "    minSteps = [0] * (n + 1)\n",
    "\n",
    "    minSteps[1] = 0\n",
    "\n",
    "    for currStep in range(2, (n + 1)):\n",
    "\n",
    "        subtractOne = MAX_VALUE\n",
    "        divideByTwo = MAX_VALUE\n",
    "        divideByThree = MAX_VALUE\n",
    "\n",
    "        subtractOne = minSteps[currStep - 1]\n",
    "\n",
    "        if currStep % 2 == 0:\n",
    "            divideByTwo = minSteps[currStep // 2]\n",
    "\n",
    "        if currStep % 3 == 0:\n",
    "            divideByThree = minSteps[currStep // 3]\n",
    "\n",
    "        minSteps[currStep] = 1 + min(subtractOne, divideByTwo, divideByThree)\n",
    "\n",
    "    return minSteps[n]\n",
    "\n",
    "\n",
    "# main\n",
    "n = int(stdin.readline().rstrip())\n",
    "print(countMinStepsToOne(n))\n"
   ]
  },
  {
   "cell_type": "markdown",
   "id": "c9be9f7c",
   "metadata": {},
   "source": [
    "#### Min Squares"
   ]
  },
  {
   "cell_type": "code",
   "execution_count": 23,
   "id": "5dc1e3d2",
   "metadata": {},
   "outputs": [
    {
     "name": "stdout",
     "output_type": "stream",
     "text": [
      "41\n",
      "2\n"
     ]
    }
   ],
   "source": [
    "import sys\n",
    "\n",
    "\n",
    "def minStepsTo1(n):\n",
    "\n",
    "    dp = [0 for i in range(n+1)]\n",
    "\n",
    "    for i in range(1, n+1):\n",
    "        dp[i] = sys.maxsize\n",
    "        for j in range(1, i+1):\n",
    "            temp = j*j\n",
    "            if temp > i:\n",
    "                break\n",
    "            dp[i] = min(dp[i], 1+dp[i-temp])\n",
    "\n",
    "    ans = dp[n]\n",
    "    return ans\n",
    "\n",
    "\n",
    "n = int(input())\n",
    "ans = minStepsTo1(n)\n",
    "print(ans)\n"
   ]
  },
  {
   "cell_type": "markdown",
   "id": "732482ef",
   "metadata": {},
   "source": [
    "#### Longest Increasing Subsequence\n"
   ]
  },
  {
   "cell_type": "code",
   "execution_count": 35,
   "id": "618374a8",
   "metadata": {},
   "outputs": [
    {
     "name": "stdout",
     "output_type": "stream",
     "text": [
      "7\n",
      "6 3 1 2 7 0 9\n",
      "4\n"
     ]
    }
   ],
   "source": [
    "from sys import stdin\n",
    "\n",
    "\n",
    "def lis(arr):\n",
    "    storage = [None for i in range(n)]\n",
    "    storage[0] = 1\n",
    "\n",
    "    ans = 1\n",
    "\n",
    "    for i in range(1, n):\n",
    "        max = 1\n",
    "        for j in range(i - 1, -1, -1):\n",
    "            if (arr[j] < arr[i]):\n",
    "                op = storage[j] + 1\n",
    "\n",
    "                if (op > max):\n",
    "                    max = op\n",
    "\n",
    "        storage[i] = max\n",
    "\n",
    "        if (max > ans):\n",
    "            ans = max\n",
    "\n",
    "    return ans\n",
    "\n",
    "\n",
    "def takeInput():\n",
    "    # To take fast I/O\n",
    "    n = int(stdin.readline().strip())\n",
    "    if n == 0:\n",
    "        return list(), 0\n",
    "    arr = list(map(int, stdin.readline().strip().split()))\n",
    "    return arr, n\n",
    "\n",
    "\n",
    "arr, n = takeInput()\n",
    "print(lis(arr))\n"
   ]
  }
 ],
 "metadata": {
  "kernelspec": {
   "display_name": "Python 3 (ipykernel)",
   "language": "python",
   "name": "python3"
  },
  "language_info": {
   "codemirror_mode": {
    "name": "ipython",
    "version": 3
   },
   "file_extension": ".py",
   "mimetype": "text/x-python",
   "name": "python",
   "nbconvert_exporter": "python",
   "pygments_lexer": "ipython3",
   "version": "3.9.13"
  }
 },
 "nbformat": 4,
 "nbformat_minor": 5
}
