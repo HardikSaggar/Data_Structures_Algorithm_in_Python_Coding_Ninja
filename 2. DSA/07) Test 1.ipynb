{
 "cells": [
  {
   "cell_type": "markdown",
   "id": "7d64da72",
   "metadata": {},
   "source": [
    "### Does s contain t?"
   ]
  },
  {
   "cell_type": "code",
   "execution_count": 4,
   "id": "5aa6552c",
   "metadata": {
    "scrolled": false
   },
   "outputs": [
    {
     "name": "stdout",
     "output_type": "stream",
     "text": [
      "shdflsdjasd\n",
      "dad\n",
      "true\n"
     ]
    }
   ],
   "source": [
    "def contains(s,t):\n",
    "    #Implement This Function Here\n",
    "    if len(t) == 0:\n",
    "        return True\n",
    "    if len(s) == 0:\n",
    "        return False\n",
    "    if (s[0] == t[0]):\n",
    "        return contains(s[1:],t[1:])\n",
    "    else:\n",
    "        return contains(s[1:],t)\n",
    "\n",
    "s = input()\n",
    "t = input()\n",
    "\n",
    "ans = contains(s,t)\n",
    "if ans is True:\n",
    "    print('true')\n",
    "else:\n",
    "    print('false')"
   ]
  },
  {
   "cell_type": "markdown",
   "id": "4caaa2a6",
   "metadata": {},
   "source": [
    "### Maximum Profit"
   ]
  },
  {
   "cell_type": "code",
   "execution_count": 6,
   "id": "d7a8f410",
   "metadata": {
    "scrolled": false
   },
   "outputs": [
    {
     "name": "stdout",
     "output_type": "stream",
     "text": [
      "5\n",
      "5 34 78 90 15 67\n",
      "134\n"
     ]
    }
   ],
   "source": [
    "def maximumProfit(arr,n):\n",
    "\t#Implement Your Function here\n",
    "    m = 0\n",
    "    arr.sort()\n",
    "    for i in arr:\n",
    "        if m<i*n:\n",
    "            m=i*n\n",
    "        n-=1\n",
    "    return m\n",
    "\n",
    "n = int(input())\n",
    "arr = [int(ele) for ele in input().split()]\n",
    "ans = maximumProfit(arr,n)\n",
    "print(ans)"
   ]
  },
  {
   "cell_type": "code",
   "execution_count": null,
   "id": "d7b2327a",
   "metadata": {},
   "outputs": [],
   "source": [
    "def helper(arr, n, start, lsum, rsum):\n",
    "    if start == n:\n",
    "        if lsum == rsum:\n",
    "            return True\n",
    "        else:\n",
    "            return False\n",
    "    \n",
    "    if arr[start] % 5 == 0:\n",
    "        lsum += arr[start]\n",
    "    \n",
    "    elif arr[start] % 3 == 0:\n",
    "        rsum += arr[start]\n",
    "\n",
    "    else:\n",
    "        return helper(arr, n, start+1, lsum+arr[start], rsum) or helper(arr, n, start+1, lsum, rsum+arr[start])\n",
    "    \n",
    "    return helper(arr, n, start+1, lsum, rsum)\n",
    "\n",
    "\n",
    "\n",
    "def split(arr, n):\n",
    "    return helper(arr, n, 0, 0, 0)\n",
    "\n",
    "\n",
    "\n",
    "\n",
    "n = int(input())\n",
    " \n",
    "# Below line read inputs from user using map() function\n",
    "arr = list(map(int,input().strip().split()))[:n]\n",
    "if split(arr, n):\n",
    "    print('true')\n",
    "else:\n",
    "    print('false')"
   ]
  }
 ],
 "metadata": {
  "kernelspec": {
   "display_name": "Python 3 (ipykernel)",
   "language": "python",
   "name": "python3"
  },
  "language_info": {
   "codemirror_mode": {
    "name": "ipython",
    "version": 3
   },
   "file_extension": ".py",
   "mimetype": "text/x-python",
   "name": "python",
   "nbconvert_exporter": "python",
   "pygments_lexer": "ipython3",
   "version": "3.9.12"
  }
 },
 "nbformat": 4,
 "nbformat_minor": 5
}
