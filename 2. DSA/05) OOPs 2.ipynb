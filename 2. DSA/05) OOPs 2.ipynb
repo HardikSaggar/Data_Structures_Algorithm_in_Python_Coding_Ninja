{
 "cells": [
  {
   "cell_type": "markdown",
   "id": "55406930",
   "metadata": {},
   "source": [
    "## Inheritance"
   ]
  },
  {
   "cell_type": "code",
   "execution_count": 47,
   "id": "9edcc3fc",
   "metadata": {},
   "outputs": [],
   "source": [
    "#Parent Class\n",
    "class Vehicle():\n",
    "    def __init__(self,make,model,fuel):\n",
    "        self.make = make\n",
    "        self.model = model\n",
    "        self.fuel = fuel\n",
    "        \n",
    "    def __private_method(self):\n",
    "        print('This is private')"
   ]
  },
  {
   "cell_type": "code",
   "execution_count": 30,
   "id": "37cd96c3",
   "metadata": {},
   "outputs": [],
   "source": [
    "#Child Class\n",
    "class Car(Vehicle):\n",
    "    def __init__(self,make,model,fuel,ac,sunroof):\n",
    "        #Parent Attributes\n",
    "        Vehicle.make = make\n",
    "        Vehicle.model = model\n",
    "        Vehicle.fuel = fuel\n",
    "        \n",
    "        self.ac = ac\n",
    "        self.sunroof = sunroof\n",
    "    \n",
    "    def show_parent_attr(self):\n",
    "        print(Vehicle.make,\" \",Vehicle.model,\" \",Vehicle.fuel)\n"
   ]
  },
  {
   "cell_type": "code",
   "execution_count": 31,
   "id": "1a4a955c",
   "metadata": {},
   "outputs": [],
   "source": [
    "myobj = Car(\"Tesla\",2021,\"Electric\",True,True)"
   ]
  },
  {
   "cell_type": "code",
   "execution_count": 14,
   "id": "8367e79f",
   "metadata": {},
   "outputs": [
    {
     "data": {
      "text/plain": [
       "{'ac': True, 'sunroof': True}"
      ]
     },
     "execution_count": 14,
     "metadata": {},
     "output_type": "execute_result"
    }
   ],
   "source": [
    "myobj.__dict__"
   ]
  },
  {
   "cell_type": "code",
   "execution_count": 32,
   "id": "2ae7bcf0",
   "metadata": {
    "scrolled": true
   },
   "outputs": [
    {
     "name": "stdout",
     "output_type": "stream",
     "text": [
      "Tesla   2021   Electric\n"
     ]
    }
   ],
   "source": [
    "myobj.show_parent_attr()"
   ]
  },
  {
   "cell_type": "markdown",
   "id": "e33dad7b",
   "metadata": {},
   "source": [
    "### Super"
   ]
  },
  {
   "cell_type": "code",
   "execution_count": 45,
   "id": "3b8a075f",
   "metadata": {},
   "outputs": [],
   "source": [
    "class Car(Vehicle):\n",
    "    def __init__(self,make,model,fuel,ac,sunroof):\n",
    "        super(Car,self).__init__(make,model,fuel)\n",
    "        \n",
    "        self.ac = ac\n",
    "        self.sunroof = sunroof   "
   ]
  },
  {
   "cell_type": "code",
   "execution_count": 48,
   "id": "c9815693",
   "metadata": {},
   "outputs": [],
   "source": [
    "myobj = Car('Audi',2022,'M7',True,True)"
   ]
  },
  {
   "cell_type": "code",
   "execution_count": 49,
   "id": "a1f51d0f",
   "metadata": {},
   "outputs": [
    {
     "data": {
      "text/plain": [
       "{'make': 'Audi', 'model': 2022, 'fuel': 'M7', 'ac': True, 'sunroof': True}"
      ]
     },
     "execution_count": 49,
     "metadata": {},
     "output_type": "execute_result"
    }
   ],
   "source": [
    "myobj.__dict__"
   ]
  },
  {
   "cell_type": "code",
   "execution_count": 50,
   "id": "224b4051",
   "metadata": {},
   "outputs": [
    {
     "name": "stdout",
     "output_type": "stream",
     "text": [
      "This is private\n"
     ]
    }
   ],
   "source": [
    "myobj._Vehicle__private_method()"
   ]
  },
  {
   "cell_type": "markdown",
   "id": "33a92d0f",
   "metadata": {},
   "source": [
    "## Polymorphism"
   ]
  },
  {
   "cell_type": "code",
   "execution_count": 8,
   "id": "2f757b58",
   "metadata": {},
   "outputs": [],
   "source": [
    "#Parent Class\n",
    "class Vehicle():\n",
    "    current_year = 2022\n",
    "    base_price = 1000\n",
    "    def __init__(self,make,model,fuel):\n",
    "        self.make = make\n",
    "        #Private\n",
    "        self.__model = model\n",
    "        self.__fuel = fuel\n",
    "        \n",
    "    def __private_method(self):\n",
    "        print('This is private')\n",
    "        \n",
    "    def get_value(self):\n",
    "        age = Vehicle.current_year - self.__model\n",
    "        print(\"Default\")\n",
    "        return Vehicle.base_price*(1/age)"
   ]
  },
  {
   "cell_type": "code",
   "execution_count": 9,
   "id": "c1ce5d39",
   "metadata": {},
   "outputs": [],
   "source": [
    "class Car(Vehicle):\n",
    "    def __init__(self,make,model,fuel,ac,sunroof):\n",
    "        super(Car,self).__init__(make,model,fuel)\n",
    "        \n",
    "        self.ac = ac\n",
    "        self.sunroof = sunroof   \n",
    "        \n",
    "    def get_value(self):\n",
    "        Vehicle.base_price = 1500\n",
    "        age = Vehicle.current_year - self._Vehicle__model\n",
    "        print('Overriden')\n",
    "        return Vehicle.base_price*(1/age)"
   ]
  },
  {
   "cell_type": "code",
   "execution_count": 10,
   "id": "0e79fdb8",
   "metadata": {},
   "outputs": [],
   "source": [
    "myobj = Car('Audi',2019,'M7',True,True)"
   ]
  },
  {
   "cell_type": "code",
   "execution_count": 11,
   "id": "3de5e4d7",
   "metadata": {},
   "outputs": [
    {
     "name": "stdout",
     "output_type": "stream",
     "text": [
      "Overriden\n"
     ]
    },
    {
     "data": {
      "text/plain": [
       "500.0"
      ]
     },
     "execution_count": 11,
     "metadata": {},
     "output_type": "execute_result"
    }
   ],
   "source": [
    "myobj.get_value()"
   ]
  },
  {
   "cell_type": "markdown",
   "id": "b86fce70",
   "metadata": {},
   "source": [
    "## MultiLevel Inheritance"
   ]
  },
  {
   "cell_type": "code",
   "execution_count": 17,
   "id": "9cdfabed",
   "metadata": {},
   "outputs": [],
   "source": [
    "#Parent Class\n",
    "class Vehicle():\n",
    "    current_year = 2022\n",
    "    base_price = 1000\n",
    "    def __init__(self,make,model,fuel):\n",
    "        self.make = make\n",
    "        self.model = model\n",
    "        self.fuel = fuel\n",
    "        \n",
    "#Child Class\n",
    "class Car(Vehicle):\n",
    "    def __init__(self,make,model,fuel,ac,sunroof):\n",
    "        super(Car,self).__init__(make,model,fuel)\n",
    "        \n",
    "        self.ac = ac\n",
    "        self.sunroof = sunroof \n",
    "        \n",
    "class ElectricVehicle(Car):\n",
    "    def __init__(self,make,model,fuel, ac, sunroof, distance):\n",
    "        super(ElectricVehicle,self).__init__\\\n",
    "        (make,model,fuel,ac,sunroof)\n",
    "        \n",
    "        self.distance = distance"
   ]
  },
  {
   "cell_type": "code",
   "execution_count": 18,
   "id": "41c1567b",
   "metadata": {},
   "outputs": [],
   "source": [
    "myobj = ElectricVehicle('Tesla',2019,\"Electric\",True,True,500)"
   ]
  },
  {
   "cell_type": "code",
   "execution_count": 19,
   "id": "b9d19194",
   "metadata": {},
   "outputs": [
    {
     "data": {
      "text/plain": [
       "{'make': 'Tesla',\n",
       " 'model': 2019,\n",
       " 'fuel': 'Electric',\n",
       " 'ac': True,\n",
       " 'sunroof': True,\n",
       " 'distance': 500}"
      ]
     },
     "execution_count": 19,
     "metadata": {},
     "output_type": "execute_result"
    }
   ],
   "source": [
    "myobj.__dict__"
   ]
  },
  {
   "cell_type": "markdown",
   "id": "5e635737",
   "metadata": {},
   "source": [
    "## Multiple Inheritance"
   ]
  },
  {
   "cell_type": "code",
   "execution_count": 37,
   "id": "7a2321ea",
   "metadata": {},
   "outputs": [],
   "source": [
    "class Car():\n",
    "    def __init__(self,make,model,fuel):\n",
    "        self.make  = make\n",
    "        self.model = model\n",
    "        self.fuel  = fuel\n",
    "        \n",
    "    def details(self):\n",
    "        return \"Maker of the car is\", self.make,\\\n",
    "    \"From Car class\"\n",
    "        \n",
    "class ElectricCar():\n",
    "    def __init__(self,make,model,fuel):\n",
    "        self.make  = make\n",
    "        self.model = model\n",
    "        self.fuel  = fuel\n",
    "        \n",
    "    def details(self):\n",
    "        return \"Maker of the car is\", self.make,\\\n",
    "    \"From Electric Car class\"\n",
    "    "
   ]
  },
  {
   "cell_type": "code",
   "execution_count": 38,
   "id": "45ab4041",
   "metadata": {},
   "outputs": [],
   "source": [
    "class Taxi(Car,ElectricCar):\n",
    "    def __init__(self,make,model,fuel):\n",
    "        super().__init__(make,model,fuel)"
   ]
  },
  {
   "cell_type": "code",
   "execution_count": 39,
   "id": "a0853a2f",
   "metadata": {},
   "outputs": [],
   "source": [
    "myobj = Taxi('Tesla',2019,\"Electric\")"
   ]
  },
  {
   "cell_type": "code",
   "execution_count": 40,
   "id": "c9833a80",
   "metadata": {},
   "outputs": [
    {
     "data": {
      "text/plain": [
       "('Maker of the car is', 'Tesla', 'From Car class')"
      ]
     },
     "execution_count": 40,
     "metadata": {},
     "output_type": "execute_result"
    }
   ],
   "source": [
    "myobj.details()"
   ]
  },
  {
   "cell_type": "code",
   "execution_count": 42,
   "id": "d49fc868",
   "metadata": {},
   "outputs": [
    {
     "data": {
      "text/plain": [
       "(__main__.Taxi, __main__.Car, __main__.ElectricCar, object)"
      ]
     },
     "execution_count": 42,
     "metadata": {},
     "output_type": "execute_result"
    }
   ],
   "source": [
    "Taxi.__mro__"
   ]
  },
  {
   "cell_type": "markdown",
   "id": "c3bf6029",
   "metadata": {},
   "source": [
    "## Operator Overloading"
   ]
  },
  {
   "cell_type": "code",
   "execution_count": 67,
   "id": "1f8d7df1",
   "metadata": {},
   "outputs": [],
   "source": [
    "class Vehicle:\n",
    "    def __init__(self,make,model,fare):\n",
    "        self.make = make\n",
    "        self.model = model\n",
    "        self.fare = fare\n",
    "        \n",
    "    def __str__(self):\n",
    "        return f\"The make of the car is {self.make} and\\\n",
    "        the model is of {self.model} with a fare of\\\n",
    "        {self.fare}\"\n",
    "    \n",
    "    def __add__(self,other):\n",
    "        return self.fare+other.fare\n",
    "    \n",
    "    def __sub__(self,other):\n",
    "        return self.fare-other.fare"
   ]
  },
  {
   "cell_type": "code",
   "execution_count": 68,
   "id": "7bfbd177",
   "metadata": {},
   "outputs": [],
   "source": [
    "myobj1 = Vehicle(\"Tesla\",2019,40)\n",
    "myobj2 = Vehicle('Ford',2018,60)"
   ]
  },
  {
   "cell_type": "code",
   "execution_count": 61,
   "id": "13c69272",
   "metadata": {},
   "outputs": [
    {
     "name": "stdout",
     "output_type": "stream",
     "text": [
      "The make of the car is Tesla and        the model is of 2019 with a fare of        40\n"
     ]
    }
   ],
   "source": [
    "print(myobj1)"
   ]
  },
  {
   "cell_type": "code",
   "execution_count": 65,
   "id": "f6c0a97d",
   "metadata": {},
   "outputs": [
    {
     "data": {
      "text/plain": [
       "100"
      ]
     },
     "execution_count": 65,
     "metadata": {},
     "output_type": "execute_result"
    }
   ],
   "source": [
    "myobj1+myobj2"
   ]
  },
  {
   "cell_type": "code",
   "execution_count": 70,
   "id": "f5c37dfb",
   "metadata": {},
   "outputs": [
    {
     "data": {
      "text/plain": [
       "20"
      ]
     },
     "execution_count": 70,
     "metadata": {},
     "output_type": "execute_result"
    }
   ],
   "source": [
    "myobj2-myobj1"
   ]
  }
 ],
 "metadata": {
  "kernelspec": {
   "display_name": "Python 3 (ipykernel)",
   "language": "python",
   "name": "python3"
  },
  "language_info": {
   "codemirror_mode": {
    "name": "ipython",
    "version": 3
   },
   "file_extension": ".py",
   "mimetype": "text/x-python",
   "name": "python",
   "nbconvert_exporter": "python",
   "pygments_lexer": "ipython3",
   "version": "3.9.12"
  }
 },
 "nbformat": 4,
 "nbformat_minor": 5
}
