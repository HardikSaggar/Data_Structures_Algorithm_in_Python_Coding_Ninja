{
 "cells": [
  {
   "cell_type": "markdown",
   "id": "77e9bbe7",
   "metadata": {},
   "source": [
    "## Stack"
   ]
  },
  {
   "cell_type": "markdown",
   "id": "d12d7d59",
   "metadata": {},
   "source": [
    "Functions\n",
    "\n",
    "push()\n",
    "pop()\n",
    "top()\n",
    "isEmpty()\n",
    "size()"
   ]
  },
  {
   "cell_type": "markdown",
   "id": "4a895c8b",
   "metadata": {},
   "source": [
    "#### Stack using Array"
   ]
  },
  {
   "cell_type": "code",
   "execution_count": 8,
   "id": "c000b536",
   "metadata": {},
   "outputs": [
    {
     "name": "stdout",
     "output_type": "stream",
     "text": [
      "15\n",
      "13\n",
      "12\n"
     ]
    }
   ],
   "source": [
    "class stack:\n",
    "    \n",
    "    def __init__(self):\n",
    "        self.__data = []\n",
    "        \n",
    "    def push(self,item):\n",
    "        self.__data.append(item)\n",
    "        \n",
    "    def pop(self):\n",
    "        if self.isEmpty():\n",
    "            print('Empty')\n",
    "            return\n",
    "        return self.__data.pop()\n",
    "        \n",
    "    def top(self):\n",
    "        if self.isEmpty():\n",
    "            print('Empty')\n",
    "            return\n",
    "        return self.__data[len(self.data) - 1]\n",
    "        \n",
    "    def size(self):\n",
    "        return len(self.__data)\n",
    "        \n",
    "    def isEmpty(self):\n",
    "        return self.size() == 0\n",
    "\n",
    "s = stack()\n",
    "s.push(12)\n",
    "s.push(13)\n",
    "s.push(15)\n",
    "\n",
    "while s.isEmpty() is False:\n",
    "    print(s.pop())\n",
    "    \n",
    "s.top()"
   ]
  },
  {
   "cell_type": "markdown",
   "id": "fefca5d4",
   "metadata": {},
   "source": [
    "#### Stack using Linked List"
   ]
  },
  {
   "cell_type": "code",
   "execution_count": 14,
   "id": "1dd4911b",
   "metadata": {},
   "outputs": [
    {
     "name": "stdout",
     "output_type": "stream",
     "text": [
      "15\n",
      "13\n",
      "12\n",
      "Empty\n"
     ]
    }
   ],
   "source": [
    "class Node:\n",
    "    def __init__(self,initData):\n",
    "        self.data = initData\n",
    "        self.next = None\n",
    "\n",
    "class stack:\n",
    "    \n",
    "    def __init__(self):\n",
    "        self.__head = None\n",
    "        self.__count = 0\n",
    "    \n",
    "    def push(self,ele):\n",
    "        newNode = Node(ele)\n",
    "        newNode.next = self.__head\n",
    "        self.__head = newNode\n",
    "        self.__count = self.__count+1\n",
    "\n",
    "    def pop(self):\n",
    "        if self.isEmpty() is True:\n",
    "            print(\"Empty\")\n",
    "            return\n",
    "        data = self.__head.data\n",
    "        self.__head = self.__head.next\n",
    "        self.__count = self.__count -1\n",
    "        return data        \n",
    "        \n",
    "    def top(self):\n",
    "        if self.isEmpty() is True:\n",
    "            print(\"Empty\")\n",
    "            return\n",
    "        data = self.__head.data\n",
    "        return data\n",
    "        \n",
    "    def size(self):\n",
    "        return self.__count\n",
    "        \n",
    "    def isEmpty(self):\n",
    "        return self.size() == 0\n",
    "    \n",
    "s = stack()\n",
    "s.push(12)\n",
    "s.push(13)\n",
    "s.push(15)\n",
    "\n",
    "while s.isEmpty() is False:\n",
    "    print(s.pop())\n",
    "    \n",
    "s.top()"
   ]
  },
  {
   "cell_type": "code",
   "execution_count": 2,
   "id": "96c6cde4",
   "metadata": {},
   "outputs": [
    {
     "name": "stdout",
     "output_type": "stream",
     "text": [
      "true\n"
     ]
    },
    {
     "name": "stderr",
     "output_type": "stream",
     "text": [
      "<>:9: SyntaxWarning: \"is\" with a literal. Did you mean \"==\"?\n",
      "<>:13: SyntaxWarning: \"is\" with a literal. Did you mean \"==\"?\n",
      "<>:18: SyntaxWarning: \"is\" with a literal. Did you mean \"==\"?\n",
      "<>:9: SyntaxWarning: \"is\" with a literal. Did you mean \"==\"?\n",
      "<>:13: SyntaxWarning: \"is\" with a literal. Did you mean \"==\"?\n",
      "<>:18: SyntaxWarning: \"is\" with a literal. Did you mean \"==\"?\n",
      "C:\\Users\\coold\\AppData\\Local\\Temp\\ipykernel_12076\\383687029.py:9: SyntaxWarning: \"is\" with a literal. Did you mean \"==\"?\n",
      "  elif char is \")\":\n",
      "C:\\Users\\coold\\AppData\\Local\\Temp\\ipykernel_12076\\383687029.py:13: SyntaxWarning: \"is\" with a literal. Did you mean \"==\"?\n",
      "  elif char is \"]\":\n",
      "C:\\Users\\coold\\AppData\\Local\\Temp\\ipykernel_12076\\383687029.py:18: SyntaxWarning: \"is\" with a literal. Did you mean \"==\"?\n",
      "  elif char is \"}\":\n"
     ]
    }
   ],
   "source": [
    "\n",
    "from sys import stdin\n",
    "\n",
    "\n",
    "def isBalanced(expression):\n",
    "    s = []\n",
    "    for char in string:\n",
    "        if char in \"([{\":\n",
    "            s.append(char)\n",
    "        elif char is \")\":\n",
    "            if not s or s[-1] != \"(\":\n",
    "                return False\n",
    "            s.pop()\n",
    "        elif char is \"]\":\n",
    "            if not s or s[-1] != \"[\":\n",
    "                return False\n",
    "            s.pop()\n",
    "\n",
    "        elif char is \"}\":\n",
    "            if not s or s[-1] != \"{\":\n",
    "                return False\n",
    "            s.pop()\n",
    "    if not s:\n",
    "        return True\n",
    "    return False\n",
    "\n",
    "\n",
    "string = stdin.readline().strip()\n",
    "\n",
    "if isBalanced(string):\n",
    "    print(\"true\")\n",
    "\n",
    "else:\n",
    "    print(\"false\")\n"
   ]
  },
  {
   "cell_type": "markdown",
   "id": "8ad8ad76",
   "metadata": {},
   "source": [
    "#### Reverse Stack"
   ]
  },
  {
   "cell_type": "code",
   "execution_count": null,
   "id": "8072342b",
   "metadata": {},
   "outputs": [],
   "source": [
    "from sys import stdin, setrecursionlimit\n",
    "setrecursionlimit(10 ** 6)\n",
    "\n",
    "\n",
    "def reverseStack(s1, s2):\n",
    "\n",
    "    # Implement the code here\n",
    "    if len(s1) <= 1:\n",
    "        return\n",
    "    while len(s1) != 1:\n",
    "        ele = s1.pop()\n",
    "        s2.append(ele)\n",
    "    lastelement = s1.pop()\n",
    "    while len(s2) != 0:\n",
    "        ele = s2.pop()\n",
    "        s1.append(ele)\n",
    "    reverseStack(s1, s2)\n",
    "    s1.append(lastelement)\n",
    "\n",
    "\n",
    "'''-------------- Utility Functions --------------'''\n",
    "\n",
    "# Takes a list as a stack and returns whether the stack is empty or not\n",
    "\n",
    "\n",
    "def isEmpty(stack):\n",
    "    return len(stack) == 0\n",
    "\n",
    "\n",
    "# Taking input using fast I/o method\n",
    "def takeInput():\n",
    "    size = int(stdin.readline().strip())\n",
    "    inputStack = list()\n",
    "\n",
    "    if size == 0:\n",
    "        return inputStack\n",
    "\n",
    "    values = list(map(int, stdin.readline().strip().split(\" \")))\n",
    "    inputStack = values\n",
    "\n",
    "    return inputStack\n",
    "\n",
    "\n",
    "# Main\n",
    "inputStack = takeInput()\n",
    "emptyStack = list()\n",
    "\n",
    "reverseStack(inputStack, emptyStack)\n",
    "\n",
    "while not isEmpty(inputStack):\n",
    "    print(inputStack.pop(), end=\" \")\n"
   ]
  },
  {
   "cell_type": "markdown",
   "id": "af8dbb86",
   "metadata": {},
   "source": [
    "## Assignment"
   ]
  },
  {
   "cell_type": "markdown",
   "id": "befbf099",
   "metadata": {},
   "source": [
    "#### Check redundant brackets"
   ]
  },
  {
   "cell_type": "code",
   "execution_count": null,
   "id": "bed47755",
   "metadata": {},
   "outputs": [],
   "source": [
    "\n",
    "from sys import stdin\n",
    "\n",
    "\n",
    "def checkRedundantBrackets(string):\n",
    "    st = []\n",
    "    for char in string:\n",
    "        if char == \")\":\n",
    "            top = st[-1]\n",
    "            st.pop()\n",
    "            flag = True\n",
    "\n",
    "            while top != \"(\":\n",
    "                if top == \"+\" or top == \"-\" or top == \"*\" or top == \"/\":\n",
    "                    flag = False\n",
    "                top = st[-1]\n",
    "                st.pop()\n",
    "            if flag == True:\n",
    "                return True\n",
    "        else:\n",
    "            st.append(char)\n",
    "    return False\n",
    "\n",
    "\n",
    "# main\n",
    "expression = stdin.readline().strip()\n",
    "\n",
    "if checkRedundantBrackets(expression):\n",
    "    print(\"true\")\n",
    "\n",
    "else:\n",
    "    print(\"false\")\n"
   ]
  },
  {
   "cell_type": "markdown",
   "id": "48c4ff0c",
   "metadata": {},
   "source": [
    "#### Stock Span"
   ]
  },
  {
   "cell_type": "code",
   "execution_count": null,
   "id": "4f6a230d",
   "metadata": {},
   "outputs": [],
   "source": [
    "\n",
    "from sys import stdin\n",
    "\n",
    "\n",
    "def stockSpan(price, n):\n",
    "    s = []\n",
    "    spans = []\n",
    "    s.append(0)\n",
    "    spans.append(1)\n",
    "    for i in range(1, n):\n",
    "        if price[i] <= price[s[-1]]:\n",
    "            spans.append(1)\n",
    "            s.append(i)\n",
    "        else:\n",
    "            while len(s) > 0 and price[i] > price[s[-1]]:\n",
    "                s.pop()\n",
    "            if len(s) == 0:\n",
    "                spans.append(i+1)\n",
    "            else:\n",
    "                spans.append(i-s[-1])\n",
    "            s.append(i)\n",
    "\n",
    "    return spans\n",
    "\n",
    "\n",
    "def printList(arr):\n",
    "    for i in range(len(arr)):\n",
    "        print(arr[i], end=\" \")\n",
    "\n",
    "    print()\n",
    "\n",
    "\n",
    "def takeInput():\n",
    "    size = int(stdin.readline().strip())\n",
    "\n",
    "    if size == 0:\n",
    "        return list(), 0\n",
    "\n",
    "    price = list(map(int, stdin.readline().strip().split(\" \")))\n",
    "\n",
    "    return price, size\n",
    "\n",
    "\n",
    "# main\n",
    "price, n = takeInput()\n",
    "\n",
    "output = stockSpan(price, n)\n",
    "printList(output)\n"
   ]
  },
  {
   "cell_type": "markdown",
   "id": "751cf554",
   "metadata": {},
   "source": [
    "#### Minimum Bracket Reversal"
   ]
  },
  {
   "cell_type": "code",
   "execution_count": null,
   "id": "9e4ac4b0",
   "metadata": {},
   "outputs": [],
   "source": [
    "\n",
    "from sys import stdin\n",
    "\n",
    "\n",
    "def countMinReversals(s):\n",
    "    temp, res, n = 0, 0, len(s)\n",
    "\n",
    "    if (n % 2 != 0):\n",
    "        return -1\n",
    "    for i in range(n):\n",
    "        if (s[i] == '{'):\n",
    "            temp += 1\n",
    "        else:\n",
    "            if (temp == 0):\n",
    "                res += 1\n",
    "                temp += 1\n",
    "            else:\n",
    "                temp -= 1\n",
    "\n",
    "    if (temp > 0):\n",
    "        res += temp // 2\n",
    "    return res\n",
    "\n",
    "\n",
    "print(countMinReversals(stdin.readline().strip()))\n"
   ]
  }
 ],
 "metadata": {
  "kernelspec": {
   "display_name": "Python 3 (ipykernel)",
   "language": "python",
   "name": "python3"
  },
  "language_info": {
   "codemirror_mode": {
    "name": "ipython",
    "version": 3
   },
   "file_extension": ".py",
   "mimetype": "text/x-python",
   "name": "python",
   "nbconvert_exporter": "python",
   "pygments_lexer": "ipython3",
   "version": "3.9.13"
  }
 },
 "nbformat": 4,
 "nbformat_minor": 5
}
