{
 "cells": [
  {
   "cell_type": "code",
   "execution_count": 5,
   "id": "ac37ac8c",
   "metadata": {},
   "outputs": [],
   "source": [
    "class ExpenseTracker:\n",
    "    \"\"\"This is a class for expense tracking\"\"\"\n",
    "    def __init__(self,date,description,transaction_type,amount):\n",
    "        self.date = date\n",
    "        self.descripton = description\n",
    "        self.transaction_type = transaction_type\n",
    "        self.amount = amount"
   ]
  },
  {
   "cell_type": "code",
   "execution_count": 7,
   "id": "884aefd6",
   "metadata": {},
   "outputs": [],
   "source": [
    "obj1 = ExpenseTracker(\"16June\",\"Birtday Party\",\"debit\",\"5000\")"
   ]
  },
  {
   "cell_type": "code",
   "execution_count": 9,
   "id": "0ba1a6b4",
   "metadata": {},
   "outputs": [
    {
     "data": {
      "text/plain": [
       "'16June'"
      ]
     },
     "execution_count": 9,
     "metadata": {},
     "output_type": "execute_result"
    }
   ],
   "source": [
    "obj1.date"
   ]
  },
  {
   "cell_type": "code",
   "execution_count": 11,
   "id": "453e95ac",
   "metadata": {},
   "outputs": [],
   "source": [
    "obj2 = ExpenseTracker(\"22May\",\"Lunch\",\"debit\",\"2000\")"
   ]
  },
  {
   "cell_type": "code",
   "execution_count": 12,
   "id": "d3a7a9a6",
   "metadata": {},
   "outputs": [
    {
     "data": {
      "text/plain": [
       "'2000'"
      ]
     },
     "execution_count": 12,
     "metadata": {},
     "output_type": "execute_result"
    }
   ],
   "source": [
    "obj2.amount"
   ]
  },
  {
   "cell_type": "code",
   "execution_count": 1,
   "id": "0f8ba828",
   "metadata": {},
   "outputs": [],
   "source": [
    "class ExpenseTracker:\n",
    "    def __init__(self,tracker_category,opening_balance,budget):\n",
    "        self.tracker_category = tracker_category\n",
    "        self.opening_balance = opening_balance\n",
    "        self.budget = budget"
   ]
  },
  {
   "cell_type": "code",
   "execution_count": 3,
   "id": "640548cf",
   "metadata": {},
   "outputs": [],
   "source": [
    "home_tracker = ExpenseTracker('home',2000,5000)"
   ]
  },
  {
   "cell_type": "code",
   "execution_count": 6,
   "id": "d905d6c4",
   "metadata": {},
   "outputs": [
    {
     "data": {
      "text/plain": [
       "'home'"
      ]
     },
     "execution_count": 6,
     "metadata": {},
     "output_type": "execute_result"
    }
   ],
   "source": [
    "home_tracker.tracker_category"
   ]
  },
  {
   "cell_type": "markdown",
   "id": "16447dd4",
   "metadata": {},
   "source": [
    "#### Dictionary"
   ]
  },
  {
   "cell_type": "code",
   "execution_count": 7,
   "id": "b4ddd000",
   "metadata": {},
   "outputs": [
    {
     "data": {
      "text/plain": [
       "{'tracker_category': 'home', 'opening_balance': 2000, 'budget': 5000}"
      ]
     },
     "execution_count": 7,
     "metadata": {},
     "output_type": "execute_result"
    }
   ],
   "source": [
    "home_tracker.__dict__"
   ]
  },
  {
   "cell_type": "markdown",
   "id": "86d0c49d",
   "metadata": {},
   "source": [
    "#### Get Attr"
   ]
  },
  {
   "cell_type": "code",
   "execution_count": 11,
   "id": "ec559e24",
   "metadata": {},
   "outputs": [
    {
     "data": {
      "text/plain": [
       "2000"
      ]
     },
     "execution_count": 11,
     "metadata": {},
     "output_type": "execute_result"
    }
   ],
   "source": [
    "getattr(home_tracker,\"opening_balance\")"
   ]
  },
  {
   "cell_type": "markdown",
   "id": "29fd78cb",
   "metadata": {},
   "source": [
    "#### Has Attr"
   ]
  },
  {
   "cell_type": "code",
   "execution_count": 14,
   "id": "84f7476f",
   "metadata": {},
   "outputs": [
    {
     "data": {
      "text/plain": [
       "False"
      ]
     },
     "execution_count": 14,
     "metadata": {},
     "output_type": "execute_result"
    }
   ],
   "source": [
    "hasattr(home_tracker,\"nothing\")"
   ]
  },
  {
   "cell_type": "markdown",
   "id": "0f5251bc",
   "metadata": {},
   "source": [
    "#### Delete Attr"
   ]
  },
  {
   "cell_type": "code",
   "execution_count": 20,
   "id": "48add40e",
   "metadata": {},
   "outputs": [
    {
     "ename": "AttributeError",
     "evalue": "budget",
     "output_type": "error",
     "traceback": [
      "\u001b[1;31m---------------------------------------------------------------------------\u001b[0m",
      "\u001b[1;31mAttributeError\u001b[0m                            Traceback (most recent call last)",
      "Input \u001b[1;32mIn [20]\u001b[0m, in \u001b[0;36m<cell line: 1>\u001b[1;34m()\u001b[0m\n\u001b[1;32m----> 1\u001b[0m \u001b[38;5;28;43mdelattr\u001b[39;49m\u001b[43m(\u001b[49m\u001b[43mhome_tracker\u001b[49m\u001b[43m,\u001b[49m\u001b[38;5;124;43m\"\u001b[39;49m\u001b[38;5;124;43mbudget\u001b[39;49m\u001b[38;5;124;43m\"\u001b[39;49m\u001b[43m)\u001b[49m\n",
      "\u001b[1;31mAttributeError\u001b[0m: budget"
     ]
    }
   ],
   "source": [
    "delattr(home_tracker,\"budget\")"
   ]
  },
  {
   "cell_type": "code",
   "execution_count": 17,
   "id": "060b0b3a",
   "metadata": {},
   "outputs": [
    {
     "data": {
      "text/plain": [
       "{'tracker_category': 'home', 'opening_balance': 2000}"
      ]
     },
     "execution_count": 17,
     "metadata": {},
     "output_type": "execute_result"
    }
   ],
   "source": [
    "home_tracker.__dict__"
   ]
  },
  {
   "cell_type": "code",
   "execution_count": 50,
   "id": "6a15f6b8",
   "metadata": {},
   "outputs": [],
   "source": [
    "class ExpenseTracker:\n",
    "    # Class Attribute\n",
    "    version = 0.1\n",
    "    \"\"\"Class Expense Tracker\"\"\"\n",
    "    def __init__(self,tracker_category,opening_balance,budget):\n",
    "        # Instance/Object Atrribute\n",
    "        self.tracker_category = tracker_category\n",
    "        self.opening_balance =  opening_balance\n",
    "        self.budget = budget\n",
    "        "
   ]
  },
  {
   "cell_type": "code",
   "execution_count": 43,
   "id": "e95ea1c2",
   "metadata": {},
   "outputs": [],
   "source": [
    "home_tracker = ExpenseTracker(\"home\",0,10000)\n",
    "shopping_tracker = ExpenseTracker(\"shopping\",1000,5000)"
   ]
  },
  {
   "cell_type": "code",
   "execution_count": 44,
   "id": "a19daaac",
   "metadata": {},
   "outputs": [
    {
     "data": {
      "text/plain": [
       "'home'"
      ]
     },
     "execution_count": 44,
     "metadata": {},
     "output_type": "execute_result"
    }
   ],
   "source": [
    "home_tracker.tracker_category"
   ]
  },
  {
   "cell_type": "code",
   "execution_count": 34,
   "id": "c91b9ef2",
   "metadata": {},
   "outputs": [
    {
     "data": {
      "text/plain": [
       "'home'"
      ]
     },
     "execution_count": 34,
     "metadata": {},
     "output_type": "execute_result"
    }
   ],
   "source": [
    "getattr(home_tracker,\"tracker_category\")"
   ]
  },
  {
   "cell_type": "code",
   "execution_count": 35,
   "id": "50a5cfad",
   "metadata": {},
   "outputs": [
    {
     "data": {
      "text/plain": [
       "{'tracker_category': 'home', 'opening_balance': 0, 'budget': 10000}"
      ]
     },
     "execution_count": 35,
     "metadata": {},
     "output_type": "execute_result"
    }
   ],
   "source": [
    "home_tracker.__dict__"
   ]
  },
  {
   "cell_type": "code",
   "execution_count": 46,
   "id": "0a7be54e",
   "metadata": {},
   "outputs": [
    {
     "data": {
      "text/plain": [
       "0.1"
      ]
     },
     "execution_count": 46,
     "metadata": {},
     "output_type": "execute_result"
    }
   ],
   "source": [
    "home_tracker.version"
   ]
  },
  {
   "cell_type": "code",
   "execution_count": 48,
   "id": "9721edc0",
   "metadata": {
    "scrolled": true
   },
   "outputs": [
    {
     "data": {
      "text/plain": [
       "0.1"
      ]
     },
     "execution_count": 48,
     "metadata": {},
     "output_type": "execute_result"
    }
   ],
   "source": [
    "shopping_tracker.version"
   ]
  },
  {
   "cell_type": "markdown",
   "id": "5d3dd940",
   "metadata": {},
   "source": [
    "### Class Methods"
   ]
  },
  {
   "cell_type": "markdown",
   "id": "74350c2d",
   "metadata": {},
   "source": [
    "#### Instance And Static"
   ]
  },
  {
   "cell_type": "code",
   "execution_count": 87,
   "id": "3d7df283",
   "metadata": {},
   "outputs": [],
   "source": [
    "class ExpenseTracker:\n",
    "    # Class Attribute\n",
    "    version = 0.1\n",
    "    \"\"\"Class Expense Tracker\"\"\"\n",
    "    def __init__(self,tracker_category,original_balance,budget):\n",
    "        # Instance/Object Atrribute\n",
    "        self.tracker_category = tracker_category\n",
    "        self.original_balance = original_balance\n",
    "        self.budget = budget\n",
    "        \n",
    "        # Instance Method\n",
    "    def get_original_balance(self):\n",
    "        return self.original_balance\n",
    "    \n",
    "        # Instance Method\n",
    "    def check_balance(self,limit = 1000):\n",
    "        if self.budget >= limit:\n",
    "            return True\n",
    "        else:\n",
    "            return \"Your Opening balance is less than limit\"\n",
    "    @staticmethod\n",
    "    def convert_amount(amount):\n",
    "        return float(amount)"
   ]
  },
  {
   "cell_type": "code",
   "execution_count": 88,
   "id": "f3a6ad60",
   "metadata": {},
   "outputs": [],
   "source": [
    "obj = ExpenseTracker('Home',0,10000)"
   ]
  },
  {
   "cell_type": "code",
   "execution_count": 89,
   "id": "e5f71407",
   "metadata": {},
   "outputs": [
    {
     "data": {
      "text/plain": [
       "0"
      ]
     },
     "execution_count": 89,
     "metadata": {},
     "output_type": "execute_result"
    }
   ],
   "source": [
    "obj.get_original_balance()"
   ]
  },
  {
   "cell_type": "code",
   "execution_count": 90,
   "id": "b8b07f70",
   "metadata": {},
   "outputs": [
    {
     "data": {
      "text/plain": [
       "True"
      ]
     },
     "execution_count": 90,
     "metadata": {},
     "output_type": "execute_result"
    }
   ],
   "source": [
    "obj.check_balance(limit=10000)"
   ]
  },
  {
   "cell_type": "code",
   "execution_count": 91,
   "id": "aebb2843",
   "metadata": {},
   "outputs": [
    {
     "data": {
      "text/plain": [
       "1000.0"
      ]
     },
     "execution_count": 91,
     "metadata": {},
     "output_type": "execute_result"
    }
   ],
   "source": [
    "obj.convert_amount(1000)"
   ]
  },
  {
   "cell_type": "code",
   "execution_count": 101,
   "id": "8aaf09a6",
   "metadata": {},
   "outputs": [],
   "source": [
    "class ExpenseTracker:\n",
    "    # Class Attribute\n",
    "    version = 0.1\n",
    "    \"\"\"Class Expense Tracker\"\"\"\n",
    "    def __init__(self,tracker_category,original_balance,budget):\n",
    "        # Instance/Object Atrribute\n",
    "        self.tracker_category = tracker_category\n",
    "        self.original_balance = original_balance\n",
    "        self.budget = budget\n",
    "        \n",
    "        # Instance Method\n",
    "    def get_original_balance(self):\n",
    "        return self.original_balance\n",
    "    \n",
    "        # Instance Method\n",
    "    def check_balance(self,limit = 1000):\n",
    "        if self.budget >= limit:\n",
    "            return True\n",
    "        else:\n",
    "            return \"Your Opening balance is less than limit\"\n",
    "    \n",
    "    @staticmethod\n",
    "    def convert_amount(amount):\n",
    "        return float(amount)\n",
    "    # Factory Method\n",
    "    @classmethod\n",
    "    def get_attributes_fromstring(cls,diary_entry:str):\n",
    "        tracker_category, opening_balance, budget = diary_entry.split(' ')\n",
    "        \n",
    "        return ExpenseTracker(tracker_category.capitalize(),\n",
    "                             cls.convert_amount(opening_balance),\n",
    "                             cls.convert_amount(budget))"
   ]
  },
  {
   "cell_type": "code",
   "execution_count": 103,
   "id": "4ef026c9",
   "metadata": {},
   "outputs": [],
   "source": [
    "ClassObject = ExpenseTracker.get_attributes_fromstring('shopping 100 5000')"
   ]
  },
  {
   "cell_type": "code",
   "execution_count": 105,
   "id": "2a0c3dfa",
   "metadata": {},
   "outputs": [
    {
     "data": {
      "text/plain": [
       "{'tracker_category': 'Shopping', 'original_balance': 100.0, 'budget': 5000.0}"
      ]
     },
     "execution_count": 105,
     "metadata": {},
     "output_type": "execute_result"
    }
   ],
   "source": [
    "ClassObject.__dict__"
   ]
  }
 ],
 "metadata": {
  "kernelspec": {
   "display_name": "Python 3 (ipykernel)",
   "language": "python",
   "name": "python3"
  },
  "language_info": {
   "codemirror_mode": {
    "name": "ipython",
    "version": 3
   },
   "file_extension": ".py",
   "mimetype": "text/x-python",
   "name": "python",
   "nbconvert_exporter": "python",
   "pygments_lexer": "ipython3",
   "version": "3.9.12"
  }
 },
 "nbformat": 4,
 "nbformat_minor": 5
}
