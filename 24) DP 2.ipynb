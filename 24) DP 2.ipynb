{
 "cells": [
  {
   "cell_type": "markdown",
   "id": "af8f34e4",
   "metadata": {},
   "source": [
    "#### Min Cost Path Problem\n"
   ]
  },
  {
   "cell_type": "code",
   "execution_count": null,
   "id": "aa2f49fe",
   "metadata": {},
   "outputs": [],
   "source": [
    "from sys import stdin\n",
    "MAX_VALUE = 2147483647\n",
    "\n",
    "\n",
    "def minCostPathHelper(input, mRows, nCols, currRow, currCol):\n",
    "    if (currRow >= mRows) or (currCol >= nCols):\n",
    "        return MAX_VALUE\n",
    "\n",
    "    if currRow == (mRows - 1) and currCol == (nCols - 1):\n",
    "        return input[currRow][currCol]\n",
    "\n",
    "    downCost = minCostPathHelper(input, mRows, nCols, (currRow + 1), currCol)\n",
    "    diagonalCost = minCostPathHelper(\n",
    "        input, mRows, nCols, (currRow + 1), (currCol + 1))\n",
    "    leftCost = minCostPathHelper(input, mRows, nCols, currRow, (currCol + 1))\n",
    "\n",
    "    return input[currRow][currCol] + min(diagonalCost, downCost, leftCost)\n",
    "\n",
    "\n",
    "def minCostPath(input, mRows, nCols):\n",
    "    if mRows == 0:\n",
    "        return MAX_VALUE\n",
    "\n",
    "    return minCostPathHelper(input, mRows, nCols, 0, 0)\n",
    "\n",
    "\n",
    "def take2DInput():\n",
    "    li = stdin.readline().rstrip().split(\" \")\n",
    "    mRows = int(li[0])\n",
    "    nCols = int(li[1])\n",
    "\n",
    "    if mRows == 0:\n",
    "        return list(), 0, 0\n",
    "\n",
    "    mat = [list(map(int, input().strip().split(\" \"))) for row in range(mRows)]\n",
    "    return mat, mRows, nCols\n",
    "\n",
    "\n",
    "# main\n",
    "mat, mRows, nCols = take2DInput()\n",
    "print(minCostPath(mat, mRows, nCols))\n"
   ]
  },
  {
   "cell_type": "markdown",
   "id": "4257d9ab",
   "metadata": {},
   "source": [
    "#### LCS - Problem\n"
   ]
  },
  {
   "cell_type": "code",
   "execution_count": null,
   "id": "2a375750",
   "metadata": {},
   "outputs": [],
   "source": [
    "from sys import stdin\n",
    "\n",
    "\n",
    "def lcs(s, t):\n",
    "    m = len(s)\n",
    "    n = len(t)\n",
    "\n",
    "    subProblems = [[0] * (n + 1) for i in range((m + 1))]\n",
    "\n",
    "    for currStart in range(1, (m + 1)):\n",
    "        for currEnd in range(1, (n + 1)):\n",
    "            if s[m - currStart] == t[n - currEnd]:\n",
    "                subProblems[currStart][currEnd] = 1 + \\\n",
    "                    subProblems[currStart - 1][currEnd - 1]\n",
    "            else:\n",
    "                subProblems[currStart][currEnd] = max(\n",
    "                    subProblems[currStart - 1][currEnd], subProblems[currStart][currEnd - 1])\n",
    "\n",
    "    return subProblems[m][n]\n",
    "\n",
    "\n",
    "s = str(stdin.readline().rstrip())\n",
    "t = str(stdin.readline().rstrip())\n",
    "\n",
    "print(lcs(s, t))\n"
   ]
  },
  {
   "cell_type": "markdown",
   "id": "9c22671e",
   "metadata": {},
   "source": [
    "#### 0 1 Knapsack - Problem\n"
   ]
  },
  {
   "cell_type": "code",
   "execution_count": null,
   "id": "f3d6bbe5",
   "metadata": {},
   "outputs": [],
   "source": [
    "from sys import stdin\n",
    "\n",
    "\n",
    "def knapsack(weights, values, n, maxWeight):\n",
    "    if (n == 0) or (maxWeight == 0):\n",
    "        return 0\n",
    "\n",
    "    if weights[n - 1] > maxWeight:\n",
    "        return knapsack(weights, values, n - 1, maxWeight)\n",
    "\n",
    "    includeItem = values[n - 1] + \\\n",
    "        knapsack(weights, values, n - 1, maxWeight - weights[n - 1])\n",
    "\n",
    "    excludeItem = knapsack(weights, values, n - 1, maxWeight)\n",
    "\n",
    "    return max(includeItem, excludeItem)\n",
    "\n",
    "\n",
    "def takeInput():\n",
    "    n = int(stdin.readline().rstrip())\n",
    "\n",
    "    if n == 0:\n",
    "        return list(), list(), n, 0\n",
    "\n",
    "    weights = list(map(int, stdin.readline().rstrip().split(\" \")))\n",
    "    values = list(map(int, stdin.readline().rstrip().split(\" \")))\n",
    "    maxWeight = int(stdin.readline().rstrip())\n",
    "\n",
    "    return weights, values, n, maxWeight\n",
    "\n",
    "\n",
    "# main\n",
    "weights, values, n, maxWeight = takeInput()\n",
    "\n",
    "print(knapsack(weights, values, n, maxWeight))\n"
   ]
  },
  {
   "cell_type": "markdown",
   "id": "5257b072",
   "metadata": {},
   "source": [
    "#### Matrix Chain Multiplication\n"
   ]
  },
  {
   "cell_type": "code",
   "execution_count": null,
   "id": "8e20257e",
   "metadata": {},
   "outputs": [],
   "source": [
    "import sys\n",
    "from sys import stdin\n",
    "\n",
    "\n",
    "def mcm(p, n):\n",
    "    n += 1\n",
    "    m = [[sys.maxsize for i in range(0, n+1)] for j in range(0, n+1)]\n",
    "    for i in range(1, n):\n",
    "        m[i][i] = 0\n",
    "    for l in range(2, n):\n",
    "        for i in range(1, n-l+1):\n",
    "            j = i+l-1\n",
    "            for k in range(i, j):\n",
    "                q = m[i][k]+m[k+1][j]+p[i-1]*p[k]*p[j]\n",
    "                if(q < m[i][j]):\n",
    "                    m[i][j] = q\n",
    "    return m[1][n-1]\n",
    "\n",
    "\n",
    "n = int(stdin.readline().strip())\n",
    "p = [int(i) for i in stdin.readline().strip().split()]\n",
    "print(mcm(p, n))\n"
   ]
  }
 ],
 "metadata": {
  "kernelspec": {
   "display_name": "Python 3 (ipykernel)",
   "language": "python",
   "name": "python3"
  },
  "language_info": {
   "codemirror_mode": {
    "name": "ipython",
    "version": 3
   },
   "file_extension": ".py",
   "mimetype": "text/x-python",
   "name": "python",
   "nbconvert_exporter": "python",
   "pygments_lexer": "ipython3",
   "version": "3.9.13"
  }
 },
 "nbformat": 4,
 "nbformat_minor": 5
}
