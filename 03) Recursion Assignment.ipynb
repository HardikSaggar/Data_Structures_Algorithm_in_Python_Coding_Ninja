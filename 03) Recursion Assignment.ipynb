{
 "cells": [
  {
   "cell_type": "markdown",
   "id": "06f8586d",
   "metadata": {},
   "source": [
    "#### Geometric Sum"
   ]
  },
  {
   "cell_type": "code",
   "execution_count": null,
   "id": "342d8775",
   "metadata": {},
   "outputs": [],
   "source": [
    "def geomatricSum(k):\n",
    "    if k == 0:\n",
    "        return 1\n",
    "    a = geomatricSum(k-1)\n",
    "    ans = a+1/2**k\n",
    "    return ans\n",
    "def pre(ans):\n",
    "    t = ('%.5f'%ans)\n",
    "    return t\n",
    "\n",
    "k = int(input())\n",
    "ans = geomatricSum(k)\n",
    "print(pre(ans))"
   ]
  },
  {
   "cell_type": "markdown",
   "id": "4e7469af",
   "metadata": {},
   "source": [
    "#### Check Palindrome"
   ]
  },
  {
   "cell_type": "code",
   "execution_count": 10,
   "id": "d9e77d4c",
   "metadata": {},
   "outputs": [
    {
     "name": "stdout",
     "output_type": "stream",
     "text": [
      "true\n"
     ]
    }
   ],
   "source": [
    "def isPalindrome(st,i):\n",
    "    if (i>len(st)/2):\n",
    "        return True\n",
    "    ans = False\n",
    "    if (st[i] is st[len(st)-i-1]) and isPalindrome(st,i+1):\n",
    "        ans = True\n",
    "    return ans\n",
    "    \n",
    "st = 'naman'\n",
    "if (isPalindrome(st,0)):\n",
    "    print('true')\n",
    "else:\n",
    "    print('false')"
   ]
  },
  {
   "cell_type": "markdown",
   "id": "6a07248c",
   "metadata": {},
   "source": [
    "#### Better\n"
   ]
  },
  {
   "cell_type": "code",
   "execution_count": 14,
   "id": "cb4c7575",
   "metadata": {},
   "outputs": [
    {
     "name": "stdout",
     "output_type": "stream",
     "text": [
      "malayalam\n",
      "true\n"
     ]
    }
   ],
   "source": [
    "def helper(string,start,end):\n",
    "    if (start == end):\n",
    "        return True\n",
    "    if (string[start] != string[end]):\n",
    "        return False\n",
    "    if (start<end):\n",
    "        return helper(string,start+1,end-1)\n",
    "    return True\n",
    "\n",
    "def palindrome(string):\n",
    "    l = len(string)\n",
    "    if l == 0 or l == 1:\n",
    "        return True\n",
    "    else:\n",
    "        return helper(string,0,l-1)\n",
    "\n",
    "string = input()\n",
    "if (palindrome(string)):\n",
    "    print('true')\n",
    "else:\n",
    "    print('false')\n",
    "\n"
   ]
  },
  {
   "cell_type": "markdown",
   "id": "dd8115b2",
   "metadata": {},
   "source": [
    "#### Sum of Digits"
   ]
  },
  {
   "cell_type": "code",
   "execution_count": 4,
   "id": "1eb2e66e",
   "metadata": {},
   "outputs": [
    {
     "name": "stdout",
     "output_type": "stream",
     "text": [
      "545\n",
      "14\n"
     ]
    }
   ],
   "source": [
    "def sumOfDigits(n):\n",
    "    return 0 if n == 0 else int(n%10)+sumOfDigits(int(n/10))\n",
    "        \n",
    "\n",
    "n = int(input())\n",
    "print(sumOfDigits(n))"
   ]
  },
  {
   "cell_type": "markdown",
   "id": "78aa47c2",
   "metadata": {},
   "source": [
    "#### Multiplication "
   ]
  },
  {
   "cell_type": "code",
   "execution_count": null,
   "id": "3fb8a4f5",
   "metadata": {},
   "outputs": [
    {
     "name": "stdout",
     "output_type": "stream",
     "text": [
      "3\n",
      "5\n"
     ]
    }
   ],
   "source": [
    "def multi(n,m):\n",
    "    if n == 0:\n",
    "        return 0\n",
    "    a = multi(n,m-1)\n",
    "    return a+n\n",
    "\n",
    "from sys import setrecursionlimit\n",
    "setrecursionlimit(11000)\n",
    "n = int(input())\n",
    "m = int(input())\n",
    "print(multi(n,m))"
   ]
  },
  {
   "cell_type": "markdown",
   "id": "72396e2e",
   "metadata": {},
   "source": [
    "#### Count Zeros"
   ]
  },
  {
   "cell_type": "code",
   "execution_count": 2,
   "id": "60202807",
   "metadata": {},
   "outputs": [
    {
     "name": "stdout",
     "output_type": "stream",
     "text": [
      "500\n",
      "2\n"
     ]
    }
   ],
   "source": [
    "from itertools import count\n",
    "from sre_constants import IN\n",
    "\n",
    "\n",
    "def countZero(n):\n",
    "    l = (n%10)\n",
    "    if n == 0:\n",
    "        return 1\n",
    "    if n<10:\n",
    "        return 0\n",
    "    if l == 0:\n",
    "        return 1+countZero(n/10)\n",
    "    return countZero(n//10)\n",
    "      \n",
    "\n",
    "from sys import setrecursionlimit\n",
    "setrecursionlimit(110000)\n",
    "n = int(input())\n",
    "print(countZero(n))\n",
    "\n"
   ]
  },
  {
   "cell_type": "markdown",
   "id": "be5725fb",
   "metadata": {},
   "source": [
    "#### String To Integers\n"
   ]
  },
  {
   "cell_type": "code",
   "execution_count": 2,
   "id": "aef37a41",
   "metadata": {},
   "outputs": [
    {
     "name": "stdout",
     "output_type": "stream",
     "text": [
      "0302\n",
      "302\n"
     ]
    }
   ],
   "source": [
    "def stringToInt(st):\n",
    "    if len(st) == 1:\n",
    "        return ord(st[0])-48\n",
    "    x,y = (ord(st[0])-48),stringToInt(st[1:])\n",
    "    x = x*(10**(len(st)-1))+y\n",
    "    return x\n",
    "    \n",
    "st = input()\n",
    "print(stringToInt(st))"
   ]
  },
  {
   "cell_type": "markdown",
   "id": "9f8a9779",
   "metadata": {},
   "source": [
    "#### Pair Star"
   ]
  },
  {
   "cell_type": "code",
   "execution_count": 2,
   "id": "a240d462",
   "metadata": {},
   "outputs": [
    {
     "name": "stdout",
     "output_type": "stream",
     "text": [
      "hello\n",
      "hel*lo\n"
     ]
    }
   ],
   "source": [
    "def pairStar(s,op,i=0):\n",
    "\n",
    "    op = op+s[i]\n",
    "\n",
    "    if (i == len(s) - 1):\n",
    "        print(op)\n",
    "        return\n",
    "\n",
    "    if (s[i] == s[i+1]):\n",
    "        op = op+'*'\n",
    "    pairStar(s,op,i+1)\n",
    "\n",
    "if __name__ == '__main__':\n",
    "    s = input()\n",
    "    op = ''\n",
    "    pairStar(s,op)"
   ]
  },
  {
   "cell_type": "markdown",
   "id": "4d8a19c9",
   "metadata": {},
   "source": [
    "#### Check AB"
   ]
  },
  {
   "cell_type": "code",
   "execution_count": 5,
   "id": "ffafe1d6",
   "metadata": {},
   "outputs": [
    {
     "name": "stdout",
     "output_type": "stream",
     "text": [
      "abb\n",
      "true\n"
     ]
    }
   ],
   "source": [
    "def state2(lst):\n",
    "    if lst==[]:\n",
    "        return True\n",
    "    poped = lst.pop(0)\n",
    "    if poped == \"a\":\n",
    "        return state2(lst)\n",
    "    else:\n",
    "        if lst == [] or lst[0] == 'a':\n",
    "            return False\n",
    "        if lst[0]==\"b\":\n",
    "            lst.pop(0) # removed \"BB\"\n",
    "            return state1(lst)\n",
    "\n",
    "def state1(lst):\n",
    "    if lst==[]:\n",
    "        return True\n",
    "    if lst[0]==\"a\":\n",
    "        lst.pop(0)\n",
    "        return state2(lst)\n",
    "    return False\n",
    "\n",
    "def checkString(inp):\n",
    "    # print(list(inp))\n",
    "    return state1(list(inp))\n",
    "\n",
    "testcases = input()\n",
    "if (checkString(testcases)):\n",
    "    print('true')\n",
    "else:\n",
    "    print('false')\n"
   ]
  },
  {
   "cell_type": "markdown",
   "id": "62c478bc",
   "metadata": {},
   "source": [
    "#### Staircase"
   ]
  },
  {
   "cell_type": "code",
   "execution_count": 7,
   "id": "9bfa5be5",
   "metadata": {},
   "outputs": [
    {
     "name": "stdout",
     "output_type": "stream",
     "text": [
      "5\n",
      "13\n"
     ]
    }
   ],
   "source": [
    "import sys\n",
    "sys.setrecursionlimit(100000)\n",
    "\n",
    "def sc(n):\n",
    "    if n == 0 or n == 1:\n",
    "        return 1\n",
    "    elif n == 2:\n",
    "        return 2\n",
    "    else:\n",
    "        return sc(n-3)+sc(n-2)+sc(n-1)\n",
    "\n",
    "n = int(input())\n",
    "print(sc(n))"
   ]
  }
 ],
 "metadata": {
  "kernelspec": {
   "display_name": "Python 3 (ipykernel)",
   "language": "python",
   "name": "python3"
  },
  "language_info": {
   "codemirror_mode": {
    "name": "ipython",
    "version": 3
   },
   "file_extension": ".py",
   "mimetype": "text/x-python",
   "name": "python",
   "nbconvert_exporter": "python",
   "pygments_lexer": "ipython3",
   "version": "3.9.13"
  }
 },
 "nbformat": 4,
 "nbformat_minor": 5
}
