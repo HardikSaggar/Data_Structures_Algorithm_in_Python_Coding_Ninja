{
 "cells": [
  {
   "cell_type": "markdown",
   "id": "c3533314",
   "metadata": {},
   "source": [
    "#### Replace Character"
   ]
  },
  {
   "cell_type": "code",
   "execution_count": 4,
   "id": "9ddf1e3d",
   "metadata": {},
   "outputs": [],
   "source": [
    "def replaceChar(s,a,b):\n",
    "    if len(s) == 0:\n",
    "        return s\n",
    "    smallOutput = replaceChar(s[1:],a,b)\n",
    "    if s[0]==a:\n",
    "        return b+smallOutput\n",
    "    else:\n",
    "        return s[0]+smallOutput\n"
   ]
  },
  {
   "cell_type": "code",
   "execution_count": 6,
   "id": "a4badca5",
   "metadata": {},
   "outputs": [
    {
     "data": {
      "text/plain": [
       "'abcbd'"
      ]
     },
     "execution_count": 6,
     "metadata": {},
     "output_type": "execute_result"
    }
   ],
   "source": [
    "replaceChar('abcsd','s','b')"
   ]
  },
  {
   "cell_type": "markdown",
   "id": "4d4f8b00",
   "metadata": {},
   "source": [
    "#### Removing X"
   ]
  },
  {
   "cell_type": "code",
   "execution_count": 9,
   "id": "419d6e7b",
   "metadata": {},
   "outputs": [
    {
     "name": "stdout",
     "output_type": "stream",
     "text": [
      "xstream\n",
      "stream\n"
     ]
    }
   ],
   "source": [
    "\n",
    "# Problem: Remove x from string\n",
    "def removeX(string): \n",
    "    l = len(string)\n",
    "    if l == 0:\n",
    "        return string\n",
    "    \n",
    "    if string[0] == 'x':\n",
    "        return removeX(string[1:])\n",
    "    return string[0]+removeX(string[1:])\n",
    "\n",
    "# Main\n",
    "string = input()\n",
    "print(removeX(string))\n"
   ]
  },
  {
   "cell_type": "markdown",
   "id": "fab6683d",
   "metadata": {},
   "source": [
    "#### Replace Pi"
   ]
  },
  {
   "cell_type": "code",
   "execution_count": null,
   "id": "9117672d",
   "metadata": {},
   "outputs": [],
   "source": [
    "def replacePi(string): \n",
    "    l = len(string)\n",
    "    if l == 0 or l == 1:\n",
    "        return string\n",
    "    \n",
    "    if string[0] == 'p' and string[1] == 'i':\n",
    "        smallOutput = replacePi(string[2:])\n",
    "        return \"3.14\"+smallOutput\n",
    "    else:\n",
    "        smallOutput = replacePi(string[1:])\n",
    "        return string[0]+smallOutput \n",
    "# Main\n",
    "string = input()\n",
    "print(replacePi(string))\n"
   ]
  },
  {
   "cell_type": "markdown",
   "id": "ed9f7d3a",
   "metadata": {},
   "source": [
    "#### Remove Duplicates"
   ]
  },
  {
   "cell_type": "code",
   "execution_count": 15,
   "id": "f3b0ec12",
   "metadata": {},
   "outputs": [
    {
     "name": "stdout",
     "output_type": "stream",
     "text": [
      "nooooob\n",
      "nob\n"
     ]
    }
   ],
   "source": [
    "def removeConsecutiveDuplicates(string):\n",
    "    # Please add your code here\n",
    "    l = len(string)\n",
    "    if l<2:\n",
    "        return string\n",
    "    if string[1] != string[0]:\n",
    "        return string[0]+removeConsecutiveDuplicates(string[1:])\n",
    "    return removeConsecutiveDuplicates(string[1:])    \n",
    "\n",
    "# Main\n",
    "string = input().strip()\n",
    "print(removeConsecutiveDuplicates(string))\n"
   ]
  },
  {
   "cell_type": "markdown",
   "id": "67e8459c",
   "metadata": {},
   "source": [
    "#### Binary Search"
   ]
  },
  {
   "cell_type": "code",
   "execution_count": 17,
   "id": "4dba8ede",
   "metadata": {},
   "outputs": [
    {
     "name": "stdout",
     "output_type": "stream",
     "text": [
      "1\n"
     ]
    }
   ],
   "source": [
    "def binarySearch(a,x,si,ei):\n",
    "    if si>ei:\n",
    "        return -1\n",
    "    mid = (si+ei)//2\n",
    "    if a[mid] == x:\n",
    "        return mid\n",
    "    elif a[mid]<x:\n",
    "        return binarySearch(a,x,si+1,ei)\n",
    "    else:\n",
    "        return binarySearch(a,x,si,ei-1)\n",
    "\n",
    "a = [1,4,5,7,8,10]\n",
    "x = 4\n",
    "print(binarySearch(a,x,0,len(a)-1))"
   ]
  },
  {
   "cell_type": "markdown",
   "id": "243a98fa",
   "metadata": {},
   "source": [
    "#### Merge Sort"
   ]
  },
  {
   "cell_type": "code",
   "execution_count": 49,
   "id": "46660f80",
   "metadata": {},
   "outputs": [
    {
     "name": "stdout",
     "output_type": "stream",
     "text": [
      "4\n",
      "6 4 9 4\n",
      "[4, 4, 6, 9]\n"
     ]
    }
   ],
   "source": [
    "def merge(a1,a2,a):\n",
    "    i = 0\n",
    "    j = 0\n",
    "    k = 0\n",
    "    while i<len(a1) and j < len(a2):\n",
    "        if (a1[i] < a2[j]):\n",
    "            a[k] = a1[i]\n",
    "            k = k+1\n",
    "            i = i+1\n",
    "        else:\n",
    "            a[k] = a2[j]\n",
    "            k = k+1\n",
    "            j = j+1\n",
    "    while i<len(a1):\n",
    "        a[k] = a1[i]\n",
    "        k = k+1\n",
    "        i = i+1\n",
    "    while j<len(a2):\n",
    "        a[k] = a2[j]\n",
    "        k = k+1\n",
    "        j = j+1\n",
    "def merge_sort(a):\n",
    "    if len(a) == 0 or len(a) == 1:\n",
    "        return \n",
    "    mid = len(a)//2\n",
    "    a1 = a[0:mid]\n",
    "    a2 = a[mid:]\n",
    "    \n",
    "    merge_sort(a1)\n",
    "    merge_sort(a2)\n",
    "    \n",
    "    merge(a1,a2,a)\n",
    "    \n",
    "n = int(input())    \n",
    "a = [ int(i) for i in input().split()]\n",
    "merge_sort(a)\n",
    "print(a)"
   ]
  },
  {
   "cell_type": "markdown",
   "id": "adf3e521",
   "metadata": {},
   "source": [
    "### Quick Sort"
   ]
  },
  {
   "cell_type": "code",
   "execution_count": 10,
   "id": "edfba179",
   "metadata": {},
   "outputs": [
    {
     "name": "stdout",
     "output_type": "stream",
     "text": [
      "5\n",
      "1 4 5 8 6\n",
      "1 4 5 6 8\n"
     ]
    }
   ],
   "source": [
    "def partition(arr,start,end):\n",
    "    pi = arr[end]\n",
    "    i = start-1\n",
    "    for j in range(start,end):\n",
    "        if arr[j]<=pi:\n",
    "            i+=1\n",
    "            arr[i],arr[j] = arr[j],arr[i]\n",
    "    arr[i+1],arr[end] = arr[end],arr[i+1]\n",
    "    return i+1\n",
    "\n",
    "def quickSort(arr, start, end):\n",
    "    # Please add your code here\n",
    "    if start<end:\n",
    "        pi = partition(arr,start,end)\n",
    "        quickSort(arr,start,pi-1)\n",
    "        quickSort(arr,pi+1,end)\n",
    "\n",
    "\n",
    "n = int(input())\n",
    "arr = list(int(i) for i in input().strip().split(' '))\n",
    "quickSort(arr, 0, n-1)\n",
    "print(*arr)\n"
   ]
  },
  {
   "cell_type": "markdown",
   "id": "13df3cd3",
   "metadata": {},
   "source": [
    "### Tower of Hanoi"
   ]
  },
  {
   "cell_type": "code",
   "execution_count": 2,
   "id": "fa4923ba",
   "metadata": {},
   "outputs": [
    {
     "name": "stdout",
     "output_type": "stream",
     "text": [
      "3\n",
      "a c\n",
      "a b\n",
      "c b\n",
      "a c\n",
      "b a\n",
      "b c\n",
      "a c\n"
     ]
    }
   ],
   "source": [
    "def towerofhanoi(n, source, aux, dest):\n",
    "    # Please add your code here\n",
    "    if n == 1:\n",
    "        print(source,dest)\n",
    "        return\n",
    "    towerofhanoi(n-1,source,dest,aux)\n",
    "    print(source,dest)\n",
    "    towerofhanoi(n-1,aux,source,dest)\n",
    "\n",
    "n=int(input())\n",
    "towerofhanoi(n, 'a', 'b', 'c')"
   ]
  },
  {
   "cell_type": "code",
   "execution_count": 4,
   "id": "74fd03da",
   "metadata": {},
   "outputs": [
    {
     "name": "stdout",
     "output_type": "stream",
     "text": [
      "2\n",
      "a b\n",
      "a c\n",
      "b c\n",
      "None\n"
     ]
    }
   ],
   "source": [
    "def towerOfHanoi(n,source,aux,dest):\n",
    "    \n",
    "    if n == 1:\n",
    "        print(source,dest)\n",
    "        return\n",
    "    \n",
    "    if n == 0:\n",
    "        return\n",
    "        \n",
    "    towerOfHanoi(n-1,source,dest,aux)\n",
    "    print(source,dest)\n",
    "    towerOfHanoi(n-1,aux,source,dest)\n",
    "\n",
    "\n",
    "\n",
    "n = int(input())\n",
    "print(towerOfHanoi(n,'a','b','c'))"
   ]
  },
  {
   "cell_type": "code",
   "execution_count": null,
   "id": "0630e2bd",
   "metadata": {},
   "outputs": [],
   "source": [
    "\n"
   ]
  }
 ],
 "metadata": {
  "kernelspec": {
   "display_name": "Python 3 (ipykernel)",
   "language": "python",
   "name": "python3"
  },
  "language_info": {
   "codemirror_mode": {
    "name": "ipython",
    "version": 3
   },
   "file_extension": ".py",
   "mimetype": "text/x-python",
   "name": "python",
   "nbconvert_exporter": "python",
   "pygments_lexer": "ipython3",
   "version": "3.9.13"
  }
 },
 "nbformat": 4,
 "nbformat_minor": 5
}
