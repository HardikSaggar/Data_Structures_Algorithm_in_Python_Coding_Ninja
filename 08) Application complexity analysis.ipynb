{
 "cells": [
  {
   "cell_type": "markdown",
   "id": "b3b85066",
   "metadata": {},
   "source": [
    "#### Power Of A Number"
   ]
  },
  {
   "cell_type": "code",
   "execution_count": null,
   "id": "565d38e9",
   "metadata": {},
   "outputs": [],
   "source": [
    "def power(x, n):\n",
    "    # Please add your code here\n",
    "    return (x**n)\n",
    "\n",
    "# Main\n",
    "from sys import setrecursionlimit\n",
    "setrecursionlimit(11000)\n",
    "x, n=list(int(i) for i in input().strip().split(' '))\n",
    "print(power(x, n))\n"
   ]
  },
  {
   "cell_type": "markdown",
   "id": "3ece5c25",
   "metadata": {},
   "source": [
    "#### Array Intersection"
   ]
  },
  {
   "cell_type": "code",
   "execution_count": 2,
   "id": "94af867e",
   "metadata": {},
   "outputs": [
    {
     "name": "stdout",
     "output_type": "stream",
     "text": [
      "[2, 3, 4]\n"
     ]
    }
   ],
   "source": [
    "from sys import stdin \n",
    "import sys \n",
    "def intersections(arr1,arr2,n,m): \n",
    "    arr1.sort()\n",
    "    arr2.sort()\n",
    "    i = 0\n",
    "    j = 0\n",
    "    li = []\n",
    "    while i < len(arr1) and j < len(arr2):\n",
    "        if arr1[i] < arr2[j]:\n",
    "            i += 1\n",
    "        elif arr1[i] > arr2[j]:\n",
    "            j += 1\n",
    "        else:\n",
    "            li.append(arr1[i])\n",
    "            i += 1\n",
    "            j += 1\n",
    "            \n",
    "    return li\n",
    "\n",
    "arr1 = [2,6,8,5,4,3]\n",
    "arr2 = [2,3,4,7]\n",
    "n = len(arr1)\n",
    "m = len(arr2)\n",
    "print(intersections(arr1,arr2,n,m))"
   ]
  },
  {
   "cell_type": "markdown",
   "id": "1a37c6fe",
   "metadata": {},
   "source": [
    "#### Array Equilibrium"
   ]
  },
  {
   "cell_type": "code",
   "execution_count": 6,
   "id": "50e3d6d1",
   "metadata": {},
   "outputs": [
    {
     "name": "stdout",
     "output_type": "stream",
     "text": [
      "2\n"
     ]
    }
   ],
   "source": [
    "from sys import stdin\n",
    "\n",
    "def arrayEquilibriumIndex(arr, n) :\n",
    "    total_sum = sum(arr)\n",
    "    leftsum = 0\n",
    "    for i, num in enumerate(arr):\n",
    "         \n",
    "        total_sum -= num\n",
    "         \n",
    "        if leftsum == total_sum:\n",
    "            return i\n",
    "        leftsum += num\n",
    "\n",
    "    return -1\n",
    "\n",
    "arr = [1,4,9,3,2]\n",
    "n = len(arr)\n",
    "print(arrayEquilibriumIndex(arr, n))"
   ]
  },
  {
   "cell_type": "markdown",
   "id": "16af69cb",
   "metadata": {},
   "source": [
    "#### Find Unique Element"
   ]
  },
  {
   "cell_type": "code",
   "execution_count": 9,
   "id": "d8e3a6b5",
   "metadata": {},
   "outputs": [
    {
     "name": "stdout",
     "output_type": "stream",
     "text": [
      "4\n"
     ]
    }
   ],
   "source": [
    "def findUnique(arr, n) :\n",
    "    ans = 0\n",
    "    for i in range(n):\n",
    "        ans = ans^arr[i] # xor nulify the paired numbers\n",
    "    return ans\n",
    "arr = [2,4,7,2,7]\n",
    "n = len(arr)\n",
    "print(findUnique(arr,n))"
   ]
  },
  {
   "cell_type": "markdown",
   "id": "bc7a2bce",
   "metadata": {},
   "source": [
    "#### Duplicate in Array"
   ]
  },
  {
   "cell_type": "code",
   "execution_count": 14,
   "id": "d5d0c090",
   "metadata": {},
   "outputs": [
    {
     "name": "stdout",
     "output_type": "stream",
     "text": [
      "1\n"
     ]
    }
   ],
   "source": [
    "def duplicates(arr,n):\n",
    "    l = len(arr)\n",
    "    s = 0\n",
    "    for i in range (0,l-1):\n",
    "        s^=i\n",
    "        s^= arr[i]\n",
    "    return s^arr[l-1]\n",
    "\n",
    "arr = [0,2,1,3,1]\n",
    "n = len(arr)\n",
    "print(duplicates(arr,n))"
   ]
  },
  {
   "cell_type": "markdown",
   "id": "7aeeecab",
   "metadata": {},
   "source": [
    "#### Pair Sum in Array"
   ]
  },
  {
   "cell_type": "code",
   "execution_count": 18,
   "id": "b0140244",
   "metadata": {},
   "outputs": [
    {
     "name": "stdout",
     "output_type": "stream",
     "text": [
      "10\n"
     ]
    }
   ],
   "source": [
    "def pairSum(arr, n, num) :\n",
    "    unordered_map = {}\n",
    "    count = 0\n",
    "    for i in range(n):\n",
    "     if num - arr[i] in unordered_map:\n",
    "       count += unordered_map[num - arr[i]]\n",
    "     if arr[i] in unordered_map:\n",
    "       unordered_map[arr[i]] += 1\n",
    "     else:\n",
    "       unordered_map[arr[i]] = 1\n",
    "    return count\n",
    "\n",
    "arr = [3,3,3,3,3]\n",
    "n = len(arr)\n",
    "num = 6\n",
    "print(pairSum(arr,n,num))"
   ]
  },
  {
   "cell_type": "markdown",
   "id": "6f09b2aa",
   "metadata": {},
   "source": [
    "#### Triplet of sum"
   ]
  },
  {
   "cell_type": "code",
   "execution_count": 20,
   "id": "d07f704a",
   "metadata": {},
   "outputs": [
    {
     "name": "stdout",
     "output_type": "stream",
     "text": [
      "5\n"
     ]
    }
   ],
   "source": [
    "\n",
    "def pairSum(arr,num,si,en) :\n",
    "    \n",
    "    numPair = 0\n",
    "\n",
    "    while si < en :\n",
    "\n",
    "        if arr[si] + arr[en] < num :\n",
    "            si += 1\n",
    "\n",
    "        elif arr[si] + arr[en] > num :\n",
    "            en -= 1\n",
    "\n",
    "        else :\n",
    "\n",
    "            elementAtStart = arr[si]\n",
    "            elementAtEnd = arr[en]\n",
    "\n",
    "            if elementAtStart == elementAtEnd :\n",
    "                totalElementsFromStartToEnd = (en - si) + 1\n",
    "                numPair += (en - si) * (en - si + 1) // 2\n",
    "\n",
    "                return numPair\n",
    "\n",
    "            tempStartIndex = si + 1\n",
    "            tempEndIndex = en - 1\n",
    "\n",
    "            while (tempStartIndex <= tempEndIndex) and (arr[tempStartIndex] == elementAtStart) :\n",
    "                tempStartIndex += 1\n",
    "\n",
    "            while (tempEndIndex >= tempStartIndex) and (arr[tempEndIndex] == elementAtEnd) :\n",
    "                tempEndIndex -= 1\n",
    "\n",
    "            totalElementsFromStart = (tempStartIndex - si)\n",
    "            totalElementsFromEnd = (en - tempEndIndex)\n",
    "\n",
    "            numPair += ((tempStartIndex - si) * (en - tempEndIndex))\n",
    "\n",
    "            si = tempStartIndex\n",
    "            en = tempEndIndex\n",
    "\n",
    "\n",
    "    return numPair\n",
    "\n",
    "def tripletSum(arr,n,num):\n",
    "    numPair = 0\n",
    "    arr.sort()\n",
    "    for i in range(n):\n",
    "        numPair += pairSum(arr,num-arr[i],i+1,n-1)\n",
    "    return numPair\n",
    "\n",
    "arr = [2,-5,8,-6,0,5,10,11,-3]\n",
    "n = len(arr)\n",
    "num = 10\n",
    "print(tripletSum(arr,n,num))"
   ]
  },
  {
   "cell_type": "markdown",
   "id": "4ad9387a",
   "metadata": {},
   "source": [
    "#### Rotate Array"
   ]
  },
  {
   "cell_type": "code",
   "execution_count": 5,
   "id": "67ed3181",
   "metadata": {},
   "outputs": [
    {
     "ename": "ValueError",
     "evalue": "invalid literal for int() with base 10: ''",
     "output_type": "error",
     "traceback": [
      "\u001b[1;31m---------------------------------------------------------------------------\u001b[0m",
      "\u001b[1;31mValueError\u001b[0m                                Traceback (most recent call last)",
      "\u001b[1;32m~\\AppData\\Local\\Temp\\ipykernel_24744\\1540524711.py\u001b[0m in \u001b[0;36m<module>\u001b[1;34m\u001b[0m\n\u001b[0;32m     43\u001b[0m \u001b[1;33m\u001b[0m\u001b[0m\n\u001b[0;32m     44\u001b[0m \u001b[1;31m#main\u001b[0m\u001b[1;33m\u001b[0m\u001b[1;33m\u001b[0m\u001b[0m\n\u001b[1;32m---> 45\u001b[1;33m \u001b[0mt\u001b[0m \u001b[1;33m=\u001b[0m \u001b[0mint\u001b[0m\u001b[1;33m(\u001b[0m\u001b[0mstdin\u001b[0m\u001b[1;33m.\u001b[0m\u001b[0mreadline\u001b[0m\u001b[1;33m(\u001b[0m\u001b[1;33m)\u001b[0m\u001b[1;33m.\u001b[0m\u001b[0mrstrip\u001b[0m\u001b[1;33m(\u001b[0m\u001b[1;33m)\u001b[0m\u001b[1;33m)\u001b[0m\u001b[1;33m\u001b[0m\u001b[1;33m\u001b[0m\u001b[0m\n\u001b[0m\u001b[0;32m     46\u001b[0m \u001b[1;33m\u001b[0m\u001b[0m\n\u001b[0;32m     47\u001b[0m \u001b[1;32mwhile\u001b[0m \u001b[0mt\u001b[0m \u001b[1;33m>\u001b[0m \u001b[1;36m0\u001b[0m\u001b[1;33m:\u001b[0m\u001b[1;33m\u001b[0m\u001b[1;33m\u001b[0m\u001b[0m\n",
      "\u001b[1;31mValueError\u001b[0m: invalid literal for int() with base 10: ''"
     ]
    }
   ],
   "source": [
    "from sys import stdin\n",
    "\n",
    "\n",
    "def swapElements(arr, start, end):\n",
    "    arr[start], arr[end] = arr[end], arr[start]\n",
    "\n",
    "\n",
    "def reverse(arr, start, end):\n",
    "    while(start < end):\n",
    "        swapElements(arr, start, end)\n",
    "        start += 1\n",
    "        end -= 1\n",
    "\n",
    "\n",
    "def rotate(arr, n, d):\n",
    "    if n == 0:\n",
    "        return\n",
    "    if d >= n and n != 0:\n",
    "        d = d % n\n",
    "    reverse(arr, 0, n-1)\n",
    "    reverse(arr, 0, n-d-1)\n",
    "    reverse(arr, n-d, n-1)\n",
    "    #Your code goes here\n",
    "\n",
    "#Taking Input Using Fats I/O\n",
    "\n",
    "\n",
    "def takeInput():\n",
    "    n = int(stdin.readline().rstrip())\n",
    "    if n == 0:\n",
    "        return list(), 0\n",
    "\n",
    "    arr = list(map(int, stdin.readline().rstrip().split(\" \")))\n",
    "    return arr, n\n",
    "\n",
    "\n",
    "#to print the array/list\n",
    "def printList(arr, n):\n",
    "    for i in range(n):\n",
    "        print(arr[i], end=\" \")\n",
    "    print()\n",
    "\n",
    "\n",
    "#main\n",
    "t = int(stdin.readline().rstrip())\n",
    "\n",
    "while t > 0:\n",
    "\n",
    "    arr, n = takeInput()\n",
    "    d = int(stdin.readline().rstrip())\n",
    "    rotate(arr, n, d)\n",
    "    printList(arr, n)\n",
    "    t -= 1\n"
   ]
  }
 ],
 "metadata": {
  "kernelspec": {
   "display_name": "Python 3 (ipykernel)",
   "language": "python",
   "name": "python3"
  },
  "language_info": {
   "codemirror_mode": {
    "name": "ipython",
    "version": 3
   },
   "file_extension": ".py",
   "mimetype": "text/x-python",
   "name": "python",
   "nbconvert_exporter": "python",
   "pygments_lexer": "ipython3",
   "version": "3.9.13"
  }
 },
 "nbformat": 4,
 "nbformat_minor": 5
}
