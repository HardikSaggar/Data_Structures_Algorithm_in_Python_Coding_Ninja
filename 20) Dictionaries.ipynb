{
 "cells": [
  {
   "cell_type": "markdown",
   "id": "0e595fab",
   "metadata": {},
   "source": [
    "## Dictionaries"
   ]
  },
  {
   "cell_type": "markdown",
   "id": "0c32a57d",
   "metadata": {},
   "source": [
    "#### Maximum Frequency"
   ]
  },
  {
   "cell_type": "code",
   "execution_count": null,
   "id": "c52d2d82",
   "metadata": {},
   "outputs": [],
   "source": [
    "from sys import stdin\n",
    "\n",
    "\n",
    "def maxfreq(arr):\n",
    "    d = {}\n",
    "    for a in arr:\n",
    "        if a in d:\n",
    "            d[a] = d.get(a, 0)+1\n",
    "        else:\n",
    "            d[a] = 1\n",
    "\n",
    "    max = -1\n",
    "    for x in arr:\n",
    "        if d[x] > max:\n",
    "            max = d[x]\n",
    "            num = x\n",
    "    return num\n",
    "\n",
    "\n",
    "def takeInput():\n",
    "    # To take fast I/O\n",
    "    n = int(stdin.readline().strip())\n",
    "    if n == 0:\n",
    "        return list(), 0\n",
    "    arr = list(map(int, stdin.readline().strip().split()))\n",
    "    return arr, n\n",
    "\n",
    "\n",
    "arr, n = takeInput()\n",
    "print(maxfreq(arr))\n"
   ]
  },
  {
   "cell_type": "markdown",
   "id": "419b5ed2",
   "metadata": {},
   "source": [
    "#### Pair Sum to 0"
   ]
  },
  {
   "cell_type": "code",
   "execution_count": null,
   "id": "0737ccf5",
   "metadata": {},
   "outputs": [],
   "source": [
    "from sys import stdin\n",
    "from math import factorial\n",
    "\n",
    "\n",
    "def nc2(n):\n",
    "    ans = 0\n",
    "    if n != 1:\n",
    "        ans = factorial(n) / (factorial(2)*factorial(n-2))\n",
    "    return int(ans)\n",
    "\n",
    "\n",
    "def freqMap(l):\n",
    "    map = {}\n",
    "    for num in l:\n",
    "        if num in map:\n",
    "            map[num] += 1\n",
    "        else:\n",
    "            map[num] = 1\n",
    "    return map\n",
    "\n",
    "\n",
    "def pairSum0(l, n):\n",
    "    m = freqMap(l)\n",
    "    count = 0\n",
    "    for num in m:\n",
    "        if num > 0 and -num in m:\n",
    "            count = count + (m[num]*m[-num])\n",
    "\n",
    "        if num == 0:\n",
    "            count = count + nc2(m[num])\n",
    "    return count\n",
    "\n",
    "\n",
    "def takeInput():\n",
    "    # To take fast I/O\n",
    "    n = int(stdin.readline().strip())\n",
    "    if n == 0:\n",
    "        return list(), 0\n",
    "    arr = list(map(int, stdin.readline().strip().split()))\n",
    "    return arr, n\n",
    "\n",
    "\n",
    "arr, n = takeInput()\n",
    "print(pairSum0(arr, n))\n"
   ]
  },
  {
   "cell_type": "markdown",
   "id": "df1cfc1a",
   "metadata": {},
   "source": [
    "## Assignment"
   ]
  },
  {
   "cell_type": "markdown",
   "id": "b8d558bf",
   "metadata": {},
   "source": [
    "#### Extract Unique characters"
   ]
  },
  {
   "cell_type": "code",
   "execution_count": null,
   "id": "098f1ec4",
   "metadata": {},
   "outputs": [],
   "source": [
    "def uniqueChar(s):\n",
    "    # Write your code here\n",
    "    ans = \"\"\n",
    "    d = {}\n",
    "    for char in s:\n",
    "        if char not in d:\n",
    "            ans = ans+char\n",
    "            d[char] = True\n",
    "\n",
    "    return ans\n",
    "\n",
    "\n",
    "# Main\n",
    "s = input()\n",
    "print(uniqueChar(s))\n"
   ]
  },
  {
   "cell_type": "markdown",
   "id": "a5465bbb",
   "metadata": {},
   "source": [
    "#### Longest Consecutive Sequence"
   ]
  },
  {
   "cell_type": "code",
   "execution_count": null,
   "id": "ce2a8026",
   "metadata": {},
   "outputs": [],
   "source": [
    "from sys import stdin\n",
    "\n",
    "\n",
    "def longestConsecutiveSubsequence(arr, n):\n",
    "    visitedElements = {}\n",
    "    elementToIndexMapping = {}\n",
    "    for i in range(n):\n",
    "        elementToIndexMapping[arr[i]] = i\n",
    "        if arr[i] not in visitedElements:\n",
    "            visitedElements[arr[i]] = True\n",
    "\n",
    "    longestSequence = []\n",
    "    maxSequenceLength = 1\n",
    "    minStartIndex = 0\n",
    "\n",
    "    for i in range(n):\n",
    "        num = arr[i]\n",
    "        currentMinStartIndex = i\n",
    "        count = 0\n",
    "        tempNum = num\n",
    "\n",
    "        while tempNum in visitedElements and visitedElements[tempNum] == True:\n",
    "            visitedElements[tempNum] = False\n",
    "            count += 1\n",
    "            tempNum += 1\n",
    "\n",
    "        tempNum = num - 1\n",
    "        while tempNum in visitedElements and visitedElements[tempNum] == True:\n",
    "            visitedElements[tempNum] = False\n",
    "            count += 1\n",
    "            currentMinStartIndex = elementToIndexMapping[tempNum]\n",
    "            tempNum -= 1\n",
    "\n",
    "        if (count > maxSequenceLength):\n",
    "            maxSequenceLength = count\n",
    "            minStartIndex = currentMinStartIndex\n",
    "        elif (count == maxSequenceLength):\n",
    "            if (currentMinStartIndex < minStartIndex):\n",
    "                minStartIndex = currentMinStartIndex\n",
    "\n",
    "    startNum = arr[minStartIndex]\n",
    "\n",
    "    longestSequence.append(startNum)\n",
    "    if (maxSequenceLength > 1):\n",
    "        longestSequence.append(startNum + maxSequenceLength - 1)\n",
    "\n",
    "    return longestSequence\n",
    "\n",
    "\n",
    "def takeInput():\n",
    "    # To take fast I/O\n",
    "    n = int(stdin.readline().strip())\n",
    "    if n == 0:\n",
    "        return list(), 0\n",
    "    arr = list(map(int, stdin.readline().strip().split()))\n",
    "    return arr, n\n",
    "\n",
    "\n",
    "arr, n = takeInput()\n",
    "ans = longestConsecutiveSubsequence(arr, n)\n",
    "print(*ans)\n"
   ]
  },
  {
   "cell_type": "markdown",
   "id": "fa73a0bb",
   "metadata": {},
   "source": [
    "#### Pairs with differnce K"
   ]
  },
  {
   "cell_type": "code",
   "execution_count": null,
   "id": "d6a4bc16",
   "metadata": {},
   "outputs": [],
   "source": [
    "def printPairDiffK(l, k):\n",
    "    pairCount = 0\n",
    "    m = {}\n",
    "    for num in l:\n",
    "        if num+k in m:\n",
    "            pairCount += m[num+k]\n",
    "        if k != 0 and num-k in m:\n",
    "            pairCount += m[num-k]\n",
    "\n",
    "        if num in m:\n",
    "            m[num] += 1\n",
    "        else:\n",
    "            m[num] = 1\n",
    "\n",
    "    return pairCount\n",
    "\n",
    "\n",
    "# Main\n",
    "n = int(input())\n",
    "l = list(int(i) for i in input().strip().split(' '))\n",
    "k = int(input())\n",
    "print(printPairDiffK(l, k))\n"
   ]
  },
  {
   "cell_type": "markdown",
   "id": "92d71470",
   "metadata": {},
   "source": [
    "#### Largest subset zero sum"
   ]
  },
  {
   "cell_type": "code",
   "execution_count": null,
   "id": "c79e2111",
   "metadata": {},
   "outputs": [],
   "source": [
    "def subsetSum(l):\n",
    "    n = len(l)\n",
    "    sum = [0] * n\n",
    "    sum[0] = l[0]\n",
    "    m = {l[0]: 0}\n",
    "    start, end = -1, -2\n",
    "    if sum[0] == 0:\n",
    "        start, end = 0, 0\n",
    "    for i in range(1, n):\n",
    "        sum[i] = sum[i-1] + l[i]\n",
    "        if sum[i] == 0:\n",
    "            start, end = 0, i\n",
    "        elif sum[i] in m:\n",
    "            # Found a subset with zero Sum\n",
    "            if i-m[sum[i]] > end-start+1:\n",
    "                start, end = m[sum[i]]+1, i\n",
    "        else:\n",
    "            m[sum[i]] = i\n",
    "    return end-start+1\n",
    "\n",
    "\n",
    "# Main\n",
    "n = int(input())\n",
    "l = list(int(i) for i in input().strip().split(' '))\n",
    "print(subsetSum(l))\n"
   ]
  }
 ],
 "metadata": {
  "kernelspec": {
   "display_name": "Python 3 (ipykernel)",
   "language": "python",
   "name": "python3"
  },
  "language_info": {
   "codemirror_mode": {
    "name": "ipython",
    "version": 3
   },
   "file_extension": ".py",
   "mimetype": "text/x-python",
   "name": "python",
   "nbconvert_exporter": "python",
   "pygments_lexer": "ipython3",
   "version": "3.9.13"
  }
 },
 "nbformat": 4,
 "nbformat_minor": 5
}
